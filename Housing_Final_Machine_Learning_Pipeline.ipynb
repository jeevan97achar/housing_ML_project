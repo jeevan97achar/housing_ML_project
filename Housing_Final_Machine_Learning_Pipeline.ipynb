{
  "nbformat": 4,
  "nbformat_minor": 0,
  "metadata": {
    "colab": {
      "provenance": [],
      "authorship_tag": "ABX9TyNuPeKddbE2JNZ2GtIN3NYs",
      "include_colab_link": true
    },
    "kernelspec": {
      "name": "python3",
      "display_name": "Python 3"
    },
    "language_info": {
      "name": "python"
    }
  },
  "cells": [
    {
      "cell_type": "markdown",
      "metadata": {
        "id": "view-in-github",
        "colab_type": "text"
      },
      "source": [
        "<a href=\"https://colab.research.google.com/github/jeevan97achar/housing_ML_project/blob/main/Housing_Final_Machine_Learning_Pipeline.ipynb\" target=\"_parent\"><img src=\"https://colab.research.google.com/assets/colab-badge.svg\" alt=\"Open In Colab\"/></a>"
      ]
    },
    {
      "cell_type": "code",
      "source": [
        "! pip install feature_engine"
      ],
      "metadata": {
        "colab": {
          "base_uri": "https://localhost:8080/"
        },
        "id": "J_tqEaNFntSf",
        "outputId": "e015b946-ebd8-473e-d621-6f9e8fc293bf"
      },
      "execution_count": 2,
      "outputs": [
        {
          "output_type": "stream",
          "name": "stdout",
          "text": [
            "Looking in indexes: https://pypi.org/simple, https://us-python.pkg.dev/colab-wheels/public/simple/\n",
            "Collecting feature_engine\n",
            "  Downloading feature_engine-1.5.2-py2.py3-none-any.whl (290 kB)\n",
            "\u001b[2K     \u001b[90m━━━━━━━━━━━━━━━━━━━━━━━━━━━━━━━━━━━━━━━\u001b[0m \u001b[32m290.0/290.0 KB\u001b[0m \u001b[31m6.8 MB/s\u001b[0m eta \u001b[36m0:00:00\u001b[0m\n",
            "\u001b[?25hRequirement already satisfied: pandas>=1.0.3 in /usr/local/lib/python3.8/dist-packages (from feature_engine) (1.3.5)\n",
            "Requirement already satisfied: scipy>=1.4.1 in /usr/local/lib/python3.8/dist-packages (from feature_engine) (1.7.3)\n",
            "Requirement already satisfied: statsmodels>=0.11.1 in /usr/local/lib/python3.8/dist-packages (from feature_engine) (0.12.2)\n",
            "Requirement already satisfied: scikit-learn>=1.0.0 in /usr/local/lib/python3.8/dist-packages (from feature_engine) (1.0.2)\n",
            "Requirement already satisfied: numpy>=1.18.2 in /usr/local/lib/python3.8/dist-packages (from feature_engine) (1.21.6)\n",
            "Requirement already satisfied: pytz>=2017.3 in /usr/local/lib/python3.8/dist-packages (from pandas>=1.0.3->feature_engine) (2022.7)\n",
            "Requirement already satisfied: python-dateutil>=2.7.3 in /usr/local/lib/python3.8/dist-packages (from pandas>=1.0.3->feature_engine) (2.8.2)\n",
            "Requirement already satisfied: threadpoolctl>=2.0.0 in /usr/local/lib/python3.8/dist-packages (from scikit-learn>=1.0.0->feature_engine) (3.1.0)\n",
            "Requirement already satisfied: joblib>=0.11 in /usr/local/lib/python3.8/dist-packages (from scikit-learn>=1.0.0->feature_engine) (1.2.0)\n",
            "Requirement already satisfied: patsy>=0.5 in /usr/local/lib/python3.8/dist-packages (from statsmodels>=0.11.1->feature_engine) (0.5.3)\n",
            "Requirement already satisfied: six in /usr/local/lib/python3.8/dist-packages (from patsy>=0.5->statsmodels>=0.11.1->feature_engine) (1.15.0)\n",
            "Installing collected packages: feature_engine\n",
            "Successfully installed feature_engine-1.5.2\n"
          ]
        }
      ]
    },
    {
      "cell_type": "code",
      "execution_count": 4,
      "metadata": {
        "id": "2onudyLHnjav"
      },
      "outputs": [],
      "source": [
        "# data manipulation and plotting\n",
        "import pandas as pd\n",
        "import numpy as np\n",
        "import matplotlib.pyplot as plt\n",
        "\n",
        "# for saving the pipeline\n",
        "import joblib\n",
        "\n",
        "# from Scikit-learn\n",
        "from sklearn.linear_model import Lasso\n",
        "from sklearn.metrics import mean_squared_error, r2_score\n",
        "from sklearn.model_selection import train_test_split\n",
        "from sklearn.pipeline import Pipeline\n",
        "from sklearn.preprocessing import MinMaxScaler, Binarizer\n",
        "\n",
        "# from feature-engine\n",
        "from feature_engine.imputation import (\n",
        "    AddMissingIndicator,\n",
        "    MeanMedianImputer,\n",
        "    CategoricalImputer,\n",
        ")\n",
        "\n",
        "from feature_engine.encoding import (\n",
        "    RareLabelEncoder,\n",
        "    OrdinalEncoder,\n",
        ")\n",
        "\n",
        "from feature_engine.transformation import LogTransformer\n",
        "\n",
        "from feature_engine.selection import DropFeatures\n",
        "from feature_engine.wrappers import SklearnTransformerWrapper\n",
        "\n",
        "import preprocessors as pp"
      ]
    },
    {
      "cell_type": "code",
      "source": [
        "# load dataset\n",
        "data = pd.read_csv('train.csv')\n",
        "\n",
        "# rows and columns of the data\n",
        "print(data.shape)\n",
        "\n",
        "# visualise the dataset\n",
        "data.head()"
      ],
      "metadata": {
        "colab": {
          "base_uri": "https://localhost:8080/",
          "height": 317
        },
        "id": "aOyYm3pyn0f5",
        "outputId": "88b95a73-baac-4e6b-cf58-27ca58cb314d"
      },
      "execution_count": 5,
      "outputs": [
        {
          "output_type": "stream",
          "name": "stdout",
          "text": [
            "(1460, 81)\n"
          ]
        },
        {
          "output_type": "execute_result",
          "data": {
            "text/plain": [
              "   Id  MSSubClass MSZoning  LotFrontage  LotArea Street Alley LotShape  \\\n",
              "0   1          60       RL         65.0     8450   Pave   NaN      Reg   \n",
              "1   2          20       RL         80.0     9600   Pave   NaN      Reg   \n",
              "2   3          60       RL         68.0    11250   Pave   NaN      IR1   \n",
              "3   4          70       RL         60.0     9550   Pave   NaN      IR1   \n",
              "4   5          60       RL         84.0    14260   Pave   NaN      IR1   \n",
              "\n",
              "  LandContour Utilities  ... PoolArea PoolQC Fence MiscFeature MiscVal MoSold  \\\n",
              "0         Lvl    AllPub  ...        0    NaN   NaN         NaN       0      2   \n",
              "1         Lvl    AllPub  ...        0    NaN   NaN         NaN       0      5   \n",
              "2         Lvl    AllPub  ...        0    NaN   NaN         NaN       0      9   \n",
              "3         Lvl    AllPub  ...        0    NaN   NaN         NaN       0      2   \n",
              "4         Lvl    AllPub  ...        0    NaN   NaN         NaN       0     12   \n",
              "\n",
              "  YrSold  SaleType  SaleCondition  SalePrice  \n",
              "0   2008        WD         Normal     208500  \n",
              "1   2007        WD         Normal     181500  \n",
              "2   2008        WD         Normal     223500  \n",
              "3   2006        WD        Abnorml     140000  \n",
              "4   2008        WD         Normal     250000  \n",
              "\n",
              "[5 rows x 81 columns]"
            ],
            "text/html": [
              "\n",
              "  <div id=\"df-788dbf13-3f56-4b93-bf36-dceb98986239\">\n",
              "    <div class=\"colab-df-container\">\n",
              "      <div>\n",
              "<style scoped>\n",
              "    .dataframe tbody tr th:only-of-type {\n",
              "        vertical-align: middle;\n",
              "    }\n",
              "\n",
              "    .dataframe tbody tr th {\n",
              "        vertical-align: top;\n",
              "    }\n",
              "\n",
              "    .dataframe thead th {\n",
              "        text-align: right;\n",
              "    }\n",
              "</style>\n",
              "<table border=\"1\" class=\"dataframe\">\n",
              "  <thead>\n",
              "    <tr style=\"text-align: right;\">\n",
              "      <th></th>\n",
              "      <th>Id</th>\n",
              "      <th>MSSubClass</th>\n",
              "      <th>MSZoning</th>\n",
              "      <th>LotFrontage</th>\n",
              "      <th>LotArea</th>\n",
              "      <th>Street</th>\n",
              "      <th>Alley</th>\n",
              "      <th>LotShape</th>\n",
              "      <th>LandContour</th>\n",
              "      <th>Utilities</th>\n",
              "      <th>...</th>\n",
              "      <th>PoolArea</th>\n",
              "      <th>PoolQC</th>\n",
              "      <th>Fence</th>\n",
              "      <th>MiscFeature</th>\n",
              "      <th>MiscVal</th>\n",
              "      <th>MoSold</th>\n",
              "      <th>YrSold</th>\n",
              "      <th>SaleType</th>\n",
              "      <th>SaleCondition</th>\n",
              "      <th>SalePrice</th>\n",
              "    </tr>\n",
              "  </thead>\n",
              "  <tbody>\n",
              "    <tr>\n",
              "      <th>0</th>\n",
              "      <td>1</td>\n",
              "      <td>60</td>\n",
              "      <td>RL</td>\n",
              "      <td>65.0</td>\n",
              "      <td>8450</td>\n",
              "      <td>Pave</td>\n",
              "      <td>NaN</td>\n",
              "      <td>Reg</td>\n",
              "      <td>Lvl</td>\n",
              "      <td>AllPub</td>\n",
              "      <td>...</td>\n",
              "      <td>0</td>\n",
              "      <td>NaN</td>\n",
              "      <td>NaN</td>\n",
              "      <td>NaN</td>\n",
              "      <td>0</td>\n",
              "      <td>2</td>\n",
              "      <td>2008</td>\n",
              "      <td>WD</td>\n",
              "      <td>Normal</td>\n",
              "      <td>208500</td>\n",
              "    </tr>\n",
              "    <tr>\n",
              "      <th>1</th>\n",
              "      <td>2</td>\n",
              "      <td>20</td>\n",
              "      <td>RL</td>\n",
              "      <td>80.0</td>\n",
              "      <td>9600</td>\n",
              "      <td>Pave</td>\n",
              "      <td>NaN</td>\n",
              "      <td>Reg</td>\n",
              "      <td>Lvl</td>\n",
              "      <td>AllPub</td>\n",
              "      <td>...</td>\n",
              "      <td>0</td>\n",
              "      <td>NaN</td>\n",
              "      <td>NaN</td>\n",
              "      <td>NaN</td>\n",
              "      <td>0</td>\n",
              "      <td>5</td>\n",
              "      <td>2007</td>\n",
              "      <td>WD</td>\n",
              "      <td>Normal</td>\n",
              "      <td>181500</td>\n",
              "    </tr>\n",
              "    <tr>\n",
              "      <th>2</th>\n",
              "      <td>3</td>\n",
              "      <td>60</td>\n",
              "      <td>RL</td>\n",
              "      <td>68.0</td>\n",
              "      <td>11250</td>\n",
              "      <td>Pave</td>\n",
              "      <td>NaN</td>\n",
              "      <td>IR1</td>\n",
              "      <td>Lvl</td>\n",
              "      <td>AllPub</td>\n",
              "      <td>...</td>\n",
              "      <td>0</td>\n",
              "      <td>NaN</td>\n",
              "      <td>NaN</td>\n",
              "      <td>NaN</td>\n",
              "      <td>0</td>\n",
              "      <td>9</td>\n",
              "      <td>2008</td>\n",
              "      <td>WD</td>\n",
              "      <td>Normal</td>\n",
              "      <td>223500</td>\n",
              "    </tr>\n",
              "    <tr>\n",
              "      <th>3</th>\n",
              "      <td>4</td>\n",
              "      <td>70</td>\n",
              "      <td>RL</td>\n",
              "      <td>60.0</td>\n",
              "      <td>9550</td>\n",
              "      <td>Pave</td>\n",
              "      <td>NaN</td>\n",
              "      <td>IR1</td>\n",
              "      <td>Lvl</td>\n",
              "      <td>AllPub</td>\n",
              "      <td>...</td>\n",
              "      <td>0</td>\n",
              "      <td>NaN</td>\n",
              "      <td>NaN</td>\n",
              "      <td>NaN</td>\n",
              "      <td>0</td>\n",
              "      <td>2</td>\n",
              "      <td>2006</td>\n",
              "      <td>WD</td>\n",
              "      <td>Abnorml</td>\n",
              "      <td>140000</td>\n",
              "    </tr>\n",
              "    <tr>\n",
              "      <th>4</th>\n",
              "      <td>5</td>\n",
              "      <td>60</td>\n",
              "      <td>RL</td>\n",
              "      <td>84.0</td>\n",
              "      <td>14260</td>\n",
              "      <td>Pave</td>\n",
              "      <td>NaN</td>\n",
              "      <td>IR1</td>\n",
              "      <td>Lvl</td>\n",
              "      <td>AllPub</td>\n",
              "      <td>...</td>\n",
              "      <td>0</td>\n",
              "      <td>NaN</td>\n",
              "      <td>NaN</td>\n",
              "      <td>NaN</td>\n",
              "      <td>0</td>\n",
              "      <td>12</td>\n",
              "      <td>2008</td>\n",
              "      <td>WD</td>\n",
              "      <td>Normal</td>\n",
              "      <td>250000</td>\n",
              "    </tr>\n",
              "  </tbody>\n",
              "</table>\n",
              "<p>5 rows × 81 columns</p>\n",
              "</div>\n",
              "      <button class=\"colab-df-convert\" onclick=\"convertToInteractive('df-788dbf13-3f56-4b93-bf36-dceb98986239')\"\n",
              "              title=\"Convert this dataframe to an interactive table.\"\n",
              "              style=\"display:none;\">\n",
              "        \n",
              "  <svg xmlns=\"http://www.w3.org/2000/svg\" height=\"24px\"viewBox=\"0 0 24 24\"\n",
              "       width=\"24px\">\n",
              "    <path d=\"M0 0h24v24H0V0z\" fill=\"none\"/>\n",
              "    <path d=\"M18.56 5.44l.94 2.06.94-2.06 2.06-.94-2.06-.94-.94-2.06-.94 2.06-2.06.94zm-11 1L8.5 8.5l.94-2.06 2.06-.94-2.06-.94L8.5 2.5l-.94 2.06-2.06.94zm10 10l.94 2.06.94-2.06 2.06-.94-2.06-.94-.94-2.06-.94 2.06-2.06.94z\"/><path d=\"M17.41 7.96l-1.37-1.37c-.4-.4-.92-.59-1.43-.59-.52 0-1.04.2-1.43.59L10.3 9.45l-7.72 7.72c-.78.78-.78 2.05 0 2.83L4 21.41c.39.39.9.59 1.41.59.51 0 1.02-.2 1.41-.59l7.78-7.78 2.81-2.81c.8-.78.8-2.07 0-2.86zM5.41 20L4 18.59l7.72-7.72 1.47 1.35L5.41 20z\"/>\n",
              "  </svg>\n",
              "      </button>\n",
              "      \n",
              "  <style>\n",
              "    .colab-df-container {\n",
              "      display:flex;\n",
              "      flex-wrap:wrap;\n",
              "      gap: 12px;\n",
              "    }\n",
              "\n",
              "    .colab-df-convert {\n",
              "      background-color: #E8F0FE;\n",
              "      border: none;\n",
              "      border-radius: 50%;\n",
              "      cursor: pointer;\n",
              "      display: none;\n",
              "      fill: #1967D2;\n",
              "      height: 32px;\n",
              "      padding: 0 0 0 0;\n",
              "      width: 32px;\n",
              "    }\n",
              "\n",
              "    .colab-df-convert:hover {\n",
              "      background-color: #E2EBFA;\n",
              "      box-shadow: 0px 1px 2px rgba(60, 64, 67, 0.3), 0px 1px 3px 1px rgba(60, 64, 67, 0.15);\n",
              "      fill: #174EA6;\n",
              "    }\n",
              "\n",
              "    [theme=dark] .colab-df-convert {\n",
              "      background-color: #3B4455;\n",
              "      fill: #D2E3FC;\n",
              "    }\n",
              "\n",
              "    [theme=dark] .colab-df-convert:hover {\n",
              "      background-color: #434B5C;\n",
              "      box-shadow: 0px 1px 3px 1px rgba(0, 0, 0, 0.15);\n",
              "      filter: drop-shadow(0px 1px 2px rgba(0, 0, 0, 0.3));\n",
              "      fill: #FFFFFF;\n",
              "    }\n",
              "  </style>\n",
              "\n",
              "      <script>\n",
              "        const buttonEl =\n",
              "          document.querySelector('#df-788dbf13-3f56-4b93-bf36-dceb98986239 button.colab-df-convert');\n",
              "        buttonEl.style.display =\n",
              "          google.colab.kernel.accessAllowed ? 'block' : 'none';\n",
              "\n",
              "        async function convertToInteractive(key) {\n",
              "          const element = document.querySelector('#df-788dbf13-3f56-4b93-bf36-dceb98986239');\n",
              "          const dataTable =\n",
              "            await google.colab.kernel.invokeFunction('convertToInteractive',\n",
              "                                                     [key], {});\n",
              "          if (!dataTable) return;\n",
              "\n",
              "          const docLinkHtml = 'Like what you see? Visit the ' +\n",
              "            '<a target=\"_blank\" href=https://colab.research.google.com/notebooks/data_table.ipynb>data table notebook</a>'\n",
              "            + ' to learn more about interactive tables.';\n",
              "          element.innerHTML = '';\n",
              "          dataTable['output_type'] = 'display_data';\n",
              "          await google.colab.output.renderOutput(dataTable, element);\n",
              "          const docLink = document.createElement('div');\n",
              "          docLink.innerHTML = docLinkHtml;\n",
              "          element.appendChild(docLink);\n",
              "        }\n",
              "      </script>\n",
              "    </div>\n",
              "  </div>\n",
              "  "
            ]
          },
          "metadata": {},
          "execution_count": 5
        }
      ]
    },
    {
      "cell_type": "code",
      "source": [
        "# Cast MSSubClass as object\n",
        "\n",
        "data['MSSubClass'] = data['MSSubClass'].astype('O')"
      ],
      "metadata": {
        "id": "7PyA1Q04n4GM"
      },
      "execution_count": 6,
      "outputs": []
    },
    {
      "cell_type": "markdown",
      "source": [
        "Separating the data into train and test involves randomness, therefore, we need to set the seed."
      ],
      "metadata": {
        "id": "CiQoVd4Tn63D"
      }
    },
    {
      "cell_type": "code",
      "source": [
        "# Let's separate into train and test set\n",
        "# Remember to set the seed (random_state for this sklearn function)\n",
        "\n",
        "X_train, X_test, y_train, y_test = train_test_split(\n",
        "    data.drop(['Id', 'SalePrice'], axis=1), # predictive variables\n",
        "    data['SalePrice'], # target\n",
        "    test_size=0.1, # portion of dataset to allocate to test set\n",
        "    random_state=0, # we are setting the seed here\n",
        ")\n",
        "\n",
        "X_train.shape, X_test.shape"
      ],
      "metadata": {
        "colab": {
          "base_uri": "https://localhost:8080/"
        },
        "id": "utRQzl1Zn7Zp",
        "outputId": "4996c8c3-f7e2-47a9-c22f-8f74832617aa"
      },
      "execution_count": 7,
      "outputs": [
        {
          "output_type": "execute_result",
          "data": {
            "text/plain": [
              "((1314, 79), (146, 79))"
            ]
          },
          "metadata": {},
          "execution_count": 7
        }
      ]
    },
    {
      "cell_type": "markdown",
      "source": [
        "We apply the logarithm"
      ],
      "metadata": {
        "id": "KwDQBWuyn-cY"
      }
    },
    {
      "cell_type": "code",
      "source": [
        "y_train = np.log(y_train)\n",
        "y_test = np.log(y_test)"
      ],
      "metadata": {
        "id": "kKgQOQmtn-Li"
      },
      "execution_count": 8,
      "outputs": []
    },
    {
      "cell_type": "markdown",
      "source": [
        "## Configuration"
      ],
      "metadata": {
        "id": "AAF5VLRNoCwp"
      }
    },
    {
      "cell_type": "code",
      "source": [
        "# categorical variables with NA in train set\n",
        "CATEGORICAL_VARS_WITH_NA_FREQUENT = ['BsmtQual', 'BsmtExposure',\n",
        "                                     'BsmtFinType1', 'GarageFinish']\n",
        "\n",
        "\n",
        "CATEGORICAL_VARS_WITH_NA_MISSING = ['FireplaceQu']\n",
        "\n",
        "\n",
        "# numerical variables with NA in train set\n",
        "NUMERICAL_VARS_WITH_NA = ['LotFrontage']\n",
        "\n",
        "\n",
        "TEMPORAL_VARS = ['YearRemodAdd']\n",
        "REF_VAR = \"YrSold\"\n",
        "\n",
        "# this variable is to calculate the temporal variable,\n",
        "# can be dropped afterwards\n",
        "DROP_FEATURES = [\"YrSold\"]\n",
        "\n",
        "# variables to log transform\n",
        "NUMERICALS_LOG_VARS = [\"LotFrontage\", \"1stFlrSF\", \"GrLivArea\"]\n",
        "\n",
        "\n",
        "# variables to binarize\n",
        "BINARIZE_VARS = ['ScreenPorch']\n",
        "\n",
        "# variables to map\n",
        "QUAL_VARS = ['ExterQual', 'BsmtQual',\n",
        "             'HeatingQC', 'KitchenQual', 'FireplaceQu']\n",
        "\n",
        "EXPOSURE_VARS = ['BsmtExposure']\n",
        "\n",
        "FINISH_VARS = ['BsmtFinType1']\n",
        "\n",
        "GARAGE_VARS = ['GarageFinish']\n",
        "\n",
        "FENCE_VARS = ['Fence']\n",
        "\n",
        "\n",
        "# categorical variables to encode\n",
        "CATEGORICAL_VARS = ['MSSubClass',  'MSZoning',  'LotShape',  'LandContour',\n",
        "                    'LotConfig', 'Neighborhood', 'RoofStyle', 'Exterior1st',\n",
        "                    'Foundation', 'CentralAir', 'Functional', 'PavedDrive',\n",
        "                    'SaleCondition']\n",
        "\n",
        "\n",
        "# variable mappings\n",
        "QUAL_MAPPINGS = {'Po': 1, 'Fa': 2, 'TA': 3,\n",
        "                 'Gd': 4, 'Ex': 5, 'Missing': 0, 'NA': 0}\n",
        "\n",
        "EXPOSURE_MAPPINGS = {'No': 1, 'Mn': 2, 'Av': 3, 'Gd': 4}\n",
        "\n",
        "FINISH_MAPPINGS = {'Missing': 0, 'NA': 0, 'Unf': 1,\n",
        "                   'LwQ': 2, 'Rec': 3, 'BLQ': 4, 'ALQ': 5, 'GLQ': 6}\n",
        "\n",
        "GARAGE_MAPPINGS = {'Missing': 0, 'NA': 0, 'Unf': 1, 'RFn': 2, 'Fin': 3}\n",
        "\n",
        "\n",
        "# the selected variables\n",
        "FEATURES = [\n",
        "    'MSSubClass',\n",
        "    'MSZoning',\n",
        "    'LotFrontage',\n",
        "    'LotShape',\n",
        "    'LandContour',\n",
        "    'LotConfig',\n",
        "    'Neighborhood',\n",
        "    'OverallQual',\n",
        "    'OverallCond',\n",
        "    'YearRemodAdd',\n",
        "    'RoofStyle',\n",
        "    'Exterior1st',\n",
        "    'ExterQual',\n",
        "    'Foundation',\n",
        "    'BsmtQual',\n",
        "    'BsmtExposure',\n",
        "    'BsmtFinType1',\n",
        "    'HeatingQC',\n",
        "    'CentralAir',\n",
        "    '1stFlrSF',\n",
        "    '2ndFlrSF',\n",
        "    'GrLivArea',\n",
        "    'BsmtFullBath',\n",
        "    'HalfBath',\n",
        "    'KitchenQual',\n",
        "    'TotRmsAbvGrd',\n",
        "    'Functional',\n",
        "    'Fireplaces',\n",
        "    'FireplaceQu',\n",
        "    'GarageFinish',\n",
        "    'GarageCars',\n",
        "    'GarageArea',\n",
        "    'PavedDrive',\n",
        "    'WoodDeckSF',\n",
        "    'ScreenPorch',\n",
        "    'SaleCondition',\n",
        "    # this one is only to calculate temporal variable:\n",
        "    \"YrSold\",\n",
        "]"
      ],
      "metadata": {
        "id": "-1-dJMBMoEvt"
      },
      "execution_count": 9,
      "outputs": []
    },
    {
      "cell_type": "code",
      "source": [
        "X_train = X_train[FEATURES]\n",
        "X_test = X_test[FEATURES]\n",
        "\n",
        "X_train.shape, X_test.shape"
      ],
      "metadata": {
        "colab": {
          "base_uri": "https://localhost:8080/"
        },
        "id": "jC6hIaPJoI3r",
        "outputId": "3fac1216-df45-4dac-aa14-a3d1ad604a5a"
      },
      "execution_count": 10,
      "outputs": [
        {
          "output_type": "execute_result",
          "data": {
            "text/plain": [
              "((1314, 37), (146, 37))"
            ]
          },
          "metadata": {},
          "execution_count": 10
        }
      ]
    },
    {
      "cell_type": "markdown",
      "source": [
        "## Pipeline - End-to-end"
      ],
      "metadata": {
        "id": "HOtiqukFoLUg"
      }
    },
    {
      "cell_type": "code",
      "source": [
        "# set up the pipeline\n",
        "price_pipe = Pipeline([\n",
        "\n",
        "    # ===== IMPUTATION =====\n",
        "    # impute categorical variables with string missing\n",
        "    ('missing_imputation', CategoricalImputer(\n",
        "        imputation_method='missing', variables=CATEGORICAL_VARS_WITH_NA_MISSING)),\n",
        "\n",
        "    ('frequent_imputation', CategoricalImputer(\n",
        "        imputation_method='frequent', variables=CATEGORICAL_VARS_WITH_NA_FREQUENT)),\n",
        "\n",
        "    # add missing indicator\n",
        "    ('missing_indicator', AddMissingIndicator(variables=NUMERICAL_VARS_WITH_NA)),\n",
        "\n",
        "    # impute numerical variables with the mean\n",
        "    ('mean_imputation', MeanMedianImputer(\n",
        "        imputation_method='mean', variables=NUMERICAL_VARS_WITH_NA\n",
        "    )),\n",
        "    \n",
        "    \n",
        "    # == TEMPORAL VARIABLES ====\n",
        "    ('elapsed_time', pp.TemporalVariableTransformer(\n",
        "        variables=TEMPORAL_VARS, reference_variable=REF_VAR)),\n",
        "\n",
        "    ('drop_features', DropFeatures(features_to_drop=[REF_VAR])),\n",
        "\n",
        "   \n",
        "\n",
        "    # ==== VARIABLE TRANSFORMATION =====\n",
        "    ('log', LogTransformer(variables=NUMERICALS_LOG_VARS)),\n",
        "    \n",
        "#     ('yeojohnson', YeoJohnsonTransformer(variables=NUMERICALS_YEO_VARS)),\n",
        "    \n",
        "    ('binarizer', SklearnTransformerWrapper(\n",
        "        transformer=Binarizer(threshold=0), variables=BINARIZE_VARS)),\n",
        "    \n",
        "\n",
        "    # === mappers ===\n",
        "    ('mapper_qual', pp.Mapper(\n",
        "        variables=QUAL_VARS, mappings=QUAL_MAPPINGS)),\n",
        "\n",
        "    ('mapper_exposure', pp.Mapper(\n",
        "        variables=EXPOSURE_VARS, mappings=EXPOSURE_MAPPINGS)),\n",
        "\n",
        "    ('mapper_finish', pp.Mapper(\n",
        "        variables=FINISH_VARS, mappings=FINISH_MAPPINGS)),\n",
        "\n",
        "    ('mapper_garage', pp.Mapper(\n",
        "        variables=GARAGE_VARS, mappings=GARAGE_MAPPINGS)),\n",
        "    \n",
        "#     ('mapper_fence', pp.Mapper(\n",
        "#         variables=FENCE_VARS, mappings=FENCE_MAPPINGS)),\n",
        "\n",
        "\n",
        "    # == CATEGORICAL ENCODING\n",
        "    ('rare_label_encoder', RareLabelEncoder(\n",
        "        tol=0.01, n_categories=1, variables=CATEGORICAL_VARS\n",
        "    )),\n",
        "\n",
        "    # encode categorical and discrete variables using the target mean\n",
        "    ('categorical_encoder', OrdinalEncoder(\n",
        "        encoding_method='ordered', variables=CATEGORICAL_VARS)),\n",
        "    \n",
        "    \n",
        "    ('scaler', MinMaxScaler()),\n",
        "#     ('selector', SelectFromModel(Lasso(alpha=0.001, random_state=0))),\n",
        "    ('Lasso', Lasso(alpha=0.001, random_state=0)),\n",
        "])"
      ],
      "metadata": {
        "id": "B4LP9DvgoM7R"
      },
      "execution_count": 11,
      "outputs": []
    },
    {
      "cell_type": "code",
      "source": [
        "# train the pipeline\n",
        "price_pipe.fit(X_train, y_train)"
      ],
      "metadata": {
        "colab": {
          "base_uri": "https://localhost:8080/"
        },
        "id": "tEH-0yDAoXER",
        "outputId": "43e0add2-ad91-496f-be64-8f90bf53c4e8"
      },
      "execution_count": 13,
      "outputs": [
        {
          "output_type": "execute_result",
          "data": {
            "text/plain": [
              "Pipeline(steps=[('missing_imputation',\n",
              "                 CategoricalImputer(variables=['FireplaceQu'])),\n",
              "                ('frequent_imputation',\n",
              "                 CategoricalImputer(imputation_method='frequent',\n",
              "                                    variables=['BsmtQual', 'BsmtExposure',\n",
              "                                               'BsmtFinType1',\n",
              "                                               'GarageFinish'])),\n",
              "                ('missing_indicator',\n",
              "                 AddMissingIndicator(variables=['LotFrontage'])),\n",
              "                ('mean_imputation',\n",
              "                 MeanMedianImputer(imputation_method=...\n",
              "                                             'Foundation', 'CentralAir',\n",
              "                                             'Functional', 'PavedDrive',\n",
              "                                             'SaleCondition'])),\n",
              "                ('categorical_encoder',\n",
              "                 OrdinalEncoder(variables=['MSSubClass', 'MSZoning', 'LotShape',\n",
              "                                           'LandContour', 'LotConfig',\n",
              "                                           'Neighborhood', 'RoofStyle',\n",
              "                                           'Exterior1st', 'Foundation',\n",
              "                                           'CentralAir', 'Functional',\n",
              "                                           'PavedDrive', 'SaleCondition'])),\n",
              "                ('scaler', MinMaxScaler()),\n",
              "                ('Lasso', Lasso(alpha=0.001, random_state=0))])"
            ]
          },
          "metadata": {},
          "execution_count": 13
        }
      ]
    },
    {
      "cell_type": "code",
      "source": [
        "# evaluate the model:\n",
        "# ====================\n",
        "\n",
        "# make predictions for train set\n",
        "pred = price_pipe.predict(X_train)\n",
        "\n",
        "# determine mse, rmse and r2\n",
        "print('train mse: {}'.format(int(\n",
        "    mean_squared_error(np.exp(y_train), np.exp(pred)))))\n",
        "print('train rmse: {}'.format(int(\n",
        "    mean_squared_error(np.exp(y_train), np.exp(pred), squared=False))))\n",
        "print('train r2: {}'.format(\n",
        "    r2_score(np.exp(y_train), np.exp(pred))))\n",
        "print()\n",
        "\n",
        "# make predictions for test set\n",
        "pred = price_pipe.predict(X_test)\n",
        "\n",
        "# determine mse, rmse and r2\n",
        "print('test mse: {}'.format(int(\n",
        "    mean_squared_error(np.exp(y_test), np.exp(pred)))))\n",
        "print('test rmse: {}'.format(int(\n",
        "    mean_squared_error(np.exp(y_test), np.exp(pred), squared=False))))\n",
        "print('test r2: {}'.format(\n",
        "    r2_score(np.exp(y_test), np.exp(pred))))\n",
        "print()\n",
        "\n",
        "print('Average house price: ', int(np.exp(y_train).median()))"
      ],
      "metadata": {
        "colab": {
          "base_uri": "https://localhost:8080/"
        },
        "id": "ALXL_LeAoUCH",
        "outputId": "07b7f788-6fb9-4e56-d846-ccbc29715830"
      },
      "execution_count": 14,
      "outputs": [
        {
          "output_type": "stream",
          "name": "stdout",
          "text": [
            "train mse: 781396630\n",
            "train rmse: 27953\n",
            "train r2: 0.8748530315439078\n",
            "\n",
            "test mse: 1060769014\n",
            "test rmse: 32569\n",
            "test r2: 0.8456415571208442\n",
            "\n",
            "Average house price:  163000\n"
          ]
        }
      ]
    },
    {
      "cell_type": "code",
      "source": [
        "# let's evaluate our predictions respect to the real sale price\n",
        "plt.scatter(y_test, price_pipe.predict(X_test))\n",
        "plt.xlabel('True House Price')\n",
        "plt.ylabel('Predicted House Price')\n",
        "plt.title('Evaluation of Lasso Predictions')"
      ],
      "metadata": {
        "colab": {
          "base_uri": "https://localhost:8080/",
          "height": 313
        },
        "id": "CQLA2idFobAB",
        "outputId": "40c33994-c75f-49d3-cd68-3d50c3d6dd13"
      },
      "execution_count": 15,
      "outputs": [
        {
          "output_type": "execute_result",
          "data": {
            "text/plain": [
              "Text(0.5, 1.0, 'Evaluation of Lasso Predictions')"
            ]
          },
          "metadata": {},
          "execution_count": 15
        },
        {
          "output_type": "display_data",
          "data": {
            "text/plain": [
              "<Figure size 432x288 with 1 Axes>"
            ],
            "image/png": "[encoded data removed]"
          },
          "metadata": {
            "needs_background": "light"
          }
        }
      ]
    },
    {
      "cell_type": "code",
      "source": [
        "# let's evaluate the distribution of the errors: \n",
        "# they should be fairly normally distributed\n",
        "\n",
        "y_test.reset_index(drop=True, inplace=True)\n",
        "\n",
        "preds = pd.Series(price_pipe.predict(X_test))\n",
        "\n",
        "errors = y_test - preds\n",
        "errors.hist(bins=30)\n",
        "plt.show()"
      ],
      "metadata": {
        "colab": {
          "base_uri": "https://localhost:8080/",
          "height": 265
        },
        "id": "EJ0mS_7_od21",
        "outputId": "cab06b8a-aede-4c9f-c645-e6eadbd3444f"
      },
      "execution_count": 16,
      "outputs": [
        {
          "output_type": "display_data",
          "data": {
            "text/plain": [
              "<Figure size 432x288 with 1 Axes>"
            ],
            "image/png": "[encoded data removed]"
          },
          "metadata": {
            "needs_background": "light"
          }
        }
      ]
    },
    {
      "cell_type": "code",
      "source": [
        "# now let's save the scaler\n",
        "\n",
        "joblib.dump(price_pipe, 'price_pipe.joblib') "
      ],
      "metadata": {
        "colab": {
          "base_uri": "https://localhost:8080/"
        },
        "id": "41VD80vvofoQ",
        "outputId": "7e948e66-7add-4711-8ec3-33a1d08399d3"
      },
      "execution_count": 17,
      "outputs": [
        {
          "output_type": "execute_result",
          "data": {
            "text/plain": [
              "['price_pipe.joblib']"
            ]
          },
          "metadata": {},
          "execution_count": 17
        }
      ]
    },
    {
      "cell_type": "markdown",
      "source": [
        "## Score new data"
      ],
      "metadata": {
        "id": "OEOb64Q4onRx"
      }
    },
    {
      "cell_type": "code",
      "source": [
        "# load the unseen / new dataset\n",
        "data = pd.read_csv('test.csv')\n",
        "\n",
        "data.drop('Id', axis=1, inplace=True)\n",
        "\n",
        "data['MSSubClass'] = data['MSSubClass'].astype('O')\n",
        "\n",
        "data = data[FEATURES]\n",
        "\n",
        "print(data.shape)"
      ],
      "metadata": {
        "colab": {
          "base_uri": "https://localhost:8080/"
        },
        "id": "6G3NsAi6ooVb",
        "outputId": "96525ef9-95ba-4be7-9cb9-d1df8c902264"
      },
      "execution_count": 18,
      "outputs": [
        {
          "output_type": "stream",
          "name": "stdout",
          "text": [
            "(1459, 37)\n"
          ]
        }
      ]
    },
    {
      "cell_type": "code",
      "source": [
        "new_vars_with_na = [\n",
        "    var for var in FEATURES\n",
        "    if var not in CATEGORICAL_VARS_WITH_NA_FREQUENT +\n",
        "    CATEGORICAL_VARS_WITH_NA_MISSING +\n",
        "    NUMERICAL_VARS_WITH_NA\n",
        "    and data[var].isnull().sum() > 0]\n",
        "\n",
        "new_vars_with_na"
      ],
      "metadata": {
        "colab": {
          "base_uri": "https://localhost:8080/"
        },
        "id": "u3v34wGVou8X",
        "outputId": "20ba7ab2-4edc-41dc-df98-1ae0fa0389fb"
      },
      "execution_count": 19,
      "outputs": [
        {
          "output_type": "execute_result",
          "data": {
            "text/plain": [
              "['MSZoning',\n",
              " 'Exterior1st',\n",
              " 'BsmtFullBath',\n",
              " 'KitchenQual',\n",
              " 'Functional',\n",
              " 'GarageCars',\n",
              " 'GarageArea']"
            ]
          },
          "metadata": {},
          "execution_count": 19
        }
      ]
    },
    {
      "cell_type": "code",
      "source": [
        "data[new_vars_with_na].head()"
      ],
      "metadata": {
        "colab": {
          "base_uri": "https://localhost:8080/",
          "height": 206
        },
        "id": "PchrYMZbowiA",
        "outputId": "b155dfb3-a4cc-421e-d401-631a0a2162c4"
      },
      "execution_count": 20,
      "outputs": [
        {
          "output_type": "execute_result",
          "data": {
            "text/plain": [
              "  MSZoning Exterior1st  BsmtFullBath KitchenQual Functional  GarageCars  \\\n",
              "0       RH     VinylSd           0.0          TA        Typ         1.0   \n",
              "1       RL     Wd Sdng           0.0          Gd        Typ         1.0   \n",
              "2       RL     VinylSd           0.0          TA        Typ         2.0   \n",
              "3       RL     VinylSd           0.0          Gd        Typ         2.0   \n",
              "4       RL     HdBoard           0.0          Gd        Typ         2.0   \n",
              "\n",
              "   GarageArea  \n",
              "0       730.0  \n",
              "1       312.0  \n",
              "2       482.0  \n",
              "3       470.0  \n",
              "4       506.0  "
            ],
            "text/html": [
              "\n",
              "  <div id=\"df-825b5108-24cb-47c7-a83c-1e59b790704a\">\n",
              "    <div class=\"colab-df-container\">\n",
              "      <div>\n",
              "<style scoped>\n",
              "    .dataframe tbody tr th:only-of-type {\n",
              "        vertical-align: middle;\n",
              "    }\n",
              "\n",
              "    .dataframe tbody tr th {\n",
              "        vertical-align: top;\n",
              "    }\n",
              "\n",
              "    .dataframe thead th {\n",
              "        text-align: right;\n",
              "    }\n",
              "</style>\n",
              "<table border=\"1\" class=\"dataframe\">\n",
              "  <thead>\n",
              "    <tr style=\"text-align: right;\">\n",
              "      <th></th>\n",
              "      <th>MSZoning</th>\n",
              "      <th>Exterior1st</th>\n",
              "      <th>BsmtFullBath</th>\n",
              "      <th>KitchenQual</th>\n",
              "      <th>Functional</th>\n",
              "      <th>GarageCars</th>\n",
              "      <th>GarageArea</th>\n",
              "    </tr>\n",
              "  </thead>\n",
              "  <tbody>\n",
              "    <tr>\n",
              "      <th>0</th>\n",
              "      <td>RH</td>\n",
              "      <td>VinylSd</td>\n",
              "      <td>0.0</td>\n",
              "      <td>TA</td>\n",
              "      <td>Typ</td>\n",
              "      <td>1.0</td>\n",
              "      <td>730.0</td>\n",
              "    </tr>\n",
              "    <tr>\n",
              "      <th>1</th>\n",
              "      <td>RL</td>\n",
              "      <td>Wd Sdng</td>\n",
              "      <td>0.0</td>\n",
              "      <td>Gd</td>\n",
              "      <td>Typ</td>\n",
              "      <td>1.0</td>\n",
              "      <td>312.0</td>\n",
              "    </tr>\n",
              "    <tr>\n",
              "      <th>2</th>\n",
              "      <td>RL</td>\n",
              "      <td>VinylSd</td>\n",
              "      <td>0.0</td>\n",
              "      <td>TA</td>\n",
              "      <td>Typ</td>\n",
              "      <td>2.0</td>\n",
              "      <td>482.0</td>\n",
              "    </tr>\n",
              "    <tr>\n",
              "      <th>3</th>\n",
              "      <td>RL</td>\n",
              "      <td>VinylSd</td>\n",
              "      <td>0.0</td>\n",
              "      <td>Gd</td>\n",
              "      <td>Typ</td>\n",
              "      <td>2.0</td>\n",
              "      <td>470.0</td>\n",
              "    </tr>\n",
              "    <tr>\n",
              "      <th>4</th>\n",
              "      <td>RL</td>\n",
              "      <td>HdBoard</td>\n",
              "      <td>0.0</td>\n",
              "      <td>Gd</td>\n",
              "      <td>Typ</td>\n",
              "      <td>2.0</td>\n",
              "      <td>506.0</td>\n",
              "    </tr>\n",
              "  </tbody>\n",
              "</table>\n",
              "</div>\n",
              "      <button class=\"colab-df-convert\" onclick=\"convertToInteractive('df-825b5108-24cb-47c7-a83c-1e59b790704a')\"\n",
              "              title=\"Convert this dataframe to an interactive table.\"\n",
              "              style=\"display:none;\">\n",
              "        \n",
              "  <svg xmlns=\"http://www.w3.org/2000/svg\" height=\"24px\"viewBox=\"0 0 24 24\"\n",
              "       width=\"24px\">\n",
              "    <path d=\"M0 0h24v24H0V0z\" fill=\"none\"/>\n",
              "    <path d=\"M18.56 5.44l.94 2.06.94-2.06 2.06-.94-2.06-.94-.94-2.06-.94 2.06-2.06.94zm-11 1L8.5 8.5l.94-2.06 2.06-.94-2.06-.94L8.5 2.5l-.94 2.06-2.06.94zm10 10l.94 2.06.94-2.06 2.06-.94-2.06-.94-.94-2.06-.94 2.06-2.06.94z\"/><path d=\"M17.41 7.96l-1.37-1.37c-.4-.4-.92-.59-1.43-.59-.52 0-1.04.2-1.43.59L10.3 9.45l-7.72 7.72c-.78.78-.78 2.05 0 2.83L4 21.41c.39.39.9.59 1.41.59.51 0 1.02-.2 1.41-.59l7.78-7.78 2.81-2.81c.8-.78.8-2.07 0-2.86zM5.41 20L4 18.59l7.72-7.72 1.47 1.35L5.41 20z\"/>\n",
              "  </svg>\n",
              "      </button>\n",
              "      \n",
              "  <style>\n",
              "    .colab-df-container {\n",
              "      display:flex;\n",
              "      flex-wrap:wrap;\n",
              "      gap: 12px;\n",
              "    }\n",
              "\n",
              "    .colab-df-convert {\n",
              "      background-color: #E8F0FE;\n",
              "      border: none;\n",
              "      border-radius: 50%;\n",
              "      cursor: pointer;\n",
              "      display: none;\n",
              "      fill: #1967D2;\n",
              "      height: 32px;\n",
              "      padding: 0 0 0 0;\n",
              "      width: 32px;\n",
              "    }\n",
              "\n",
              "    .colab-df-convert:hover {\n",
              "      background-color: #E2EBFA;\n",
              "      box-shadow: 0px 1px 2px rgba(60, 64, 67, 0.3), 0px 1px 3px 1px rgba(60, 64, 67, 0.15);\n",
              "      fill: #174EA6;\n",
              "    }\n",
              "\n",
              "    [theme=dark] .colab-df-convert {\n",
              "      background-color: #3B4455;\n",
              "      fill: #D2E3FC;\n",
              "    }\n",
              "\n",
              "    [theme=dark] .colab-df-convert:hover {\n",
              "      background-color: #434B5C;\n",
              "      box-shadow: 0px 1px 3px 1px rgba(0, 0, 0, 0.15);\n",
              "      filter: drop-shadow(0px 1px 2px rgba(0, 0, 0, 0.3));\n",
              "      fill: #FFFFFF;\n",
              "    }\n",
              "  </style>\n",
              "\n",
              "      <script>\n",
              "        const buttonEl =\n",
              "          document.querySelector('#df-825b5108-24cb-47c7-a83c-1e59b790704a button.colab-df-convert');\n",
              "        buttonEl.style.display =\n",
              "          google.colab.kernel.accessAllowed ? 'block' : 'none';\n",
              "\n",
              "        async function convertToInteractive(key) {\n",
              "          const element = document.querySelector('#df-825b5108-24cb-47c7-a83c-1e59b790704a');\n",
              "          const dataTable =\n",
              "            await google.colab.kernel.invokeFunction('convertToInteractive',\n",
              "                                                     [key], {});\n",
              "          if (!dataTable) return;\n",
              "\n",
              "          const docLinkHtml = 'Like what you see? Visit the ' +\n",
              "            '<a target=\"_blank\" href=https://colab.research.google.com/notebooks/data_table.ipynb>data table notebook</a>'\n",
              "            + ' to learn more about interactive tables.';\n",
              "          element.innerHTML = '';\n",
              "          dataTable['output_type'] = 'display_data';\n",
              "          await google.colab.output.renderOutput(dataTable, element);\n",
              "          const docLink = document.createElement('div');\n",
              "          docLink.innerHTML = docLinkHtml;\n",
              "          element.appendChild(docLink);\n",
              "        }\n",
              "      </script>\n",
              "    </div>\n",
              "  </div>\n",
              "  "
            ]
          },
          "metadata": {},
          "execution_count": 20
        }
      ]
    },
    {
      "cell_type": "code",
      "source": [
        "data[new_vars_with_na].isnull().mean()"
      ],
      "metadata": {
        "colab": {
          "base_uri": "https://localhost:8080/"
        },
        "id": "LcCBJrZxoz4F",
        "outputId": "e9387fc6-dc00-4dd2-f7a9-235fe0b5d755"
      },
      "execution_count": 21,
      "outputs": [
        {
          "output_type": "execute_result",
          "data": {
            "text/plain": [
              "MSZoning        0.002742\n",
              "Exterior1st     0.000685\n",
              "BsmtFullBath    0.001371\n",
              "KitchenQual     0.000685\n",
              "Functional      0.001371\n",
              "GarageCars      0.000685\n",
              "GarageArea      0.000685\n",
              "dtype: float64"
            ]
          },
          "metadata": {},
          "execution_count": 21
        }
      ]
    },
    {
      "cell_type": "code",
      "source": [
        "data.dropna(subset=new_vars_with_na, inplace=True)\n",
        "\n",
        "print(data.shape)"
      ],
      "metadata": {
        "colab": {
          "base_uri": "https://localhost:8080/"
        },
        "id": "u6606tgVo191",
        "outputId": "34cca49c-18e2-444a-db28-04e6802c142e"
      },
      "execution_count": 22,
      "outputs": [
        {
          "output_type": "stream",
          "name": "stdout",
          "text": [
            "(1449, 37)\n"
          ]
        }
      ]
    },
    {
      "cell_type": "code",
      "source": [
        "new_preds = price_pipe.predict(data)"
      ],
      "metadata": {
        "id": "lnIClUH7o3uv"
      },
      "execution_count": 23,
      "outputs": []
    },
    {
      "cell_type": "code",
      "source": [
        "# let's plot the predicted sale prices\n",
        "pd.Series(np.exp(new_preds)).hist(bins=50)"
      ],
      "metadata": {
        "colab": {
          "base_uri": "https://localhost:8080/",
          "height": 283
        },
        "id": "XO0HOn-Jo4_t",
        "outputId": "f1e240c3-6992-4ff2-b019-83a8c54cbb0f"
      },
      "execution_count": 24,
      "outputs": [
        {
          "output_type": "execute_result",
          "data": {
            "text/plain": [
              "<matplotlib.axes._subplots.AxesSubplot at 0x7fe56404b190>"
            ]
          },
          "metadata": {},
          "execution_count": 24
        },
        {
          "output_type": "display_data",
          "data": {
            "text/plain": [
              "<Figure size 432x288 with 1 Axes>"
            ],
            "image/png": "[encoded data removed]"
          },
          "metadata": {
            "needs_background": "light"
          }
        }
      ]
    },
    {
      "cell_type": "markdown",
      "source": [
        "Ready for deployment!!!!\n",
        "\n"
      ],
      "metadata": {
        "id": "7jw2Ny62o9dr"
      }
    }
  ]
}