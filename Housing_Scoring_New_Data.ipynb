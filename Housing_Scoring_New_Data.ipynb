{
  "nbformat": 4,
  "nbformat_minor": 0,
  "metadata": {
    "colab": {
      "provenance": [],
      "authorship_tag": "ABX9TyMpKVUotzzwyYhvvGlaJbD/",
      "include_colab_link": true
    },
    "kernelspec": {
      "name": "python3",
      "display_name": "Python 3"
    },
    "language_info": {
      "name": "python"
    }
  },
  "cells": [
    {
      "cell_type": "markdown",
      "metadata": {
        "id": "view-in-github",
        "colab_type": "text"
      },
      "source": [
        "<a href=\"https://colab.research.google.com/github/jeevan97achar/housing_ML_project/blob/main/Housing_Scoring_New_Data.ipynb\" target=\"_parent\"><img src=\"https://colab.research.google.com/assets/colab-badge.svg\" alt=\"Open In Colab\"/></a>"
      ]
    },
    {
      "cell_type": "markdown",
      "source": [
        "# Scoring a New Data"
      ],
      "metadata": {
        "id": "X9KV9vgBriyp"
      }
    },
    {
      "cell_type": "code",
      "execution_count": 39,
      "metadata": {
        "id": "r3qFSzmrrgj_"
      },
      "outputs": [],
      "source": [
        "# to handle datasets\n",
        "import pandas as pd\n",
        "import numpy as np\n",
        "\n",
        "# for plotting\n",
        "import matplotlib.pyplot as plt\n",
        "\n",
        "# for the yeo-johnson transformation\n",
        "import scipy.stats as stats\n",
        "\n",
        "# to save the model\n",
        "import joblib"
      ]
    },
    {
      "cell_type": "code",
      "source": [
        "# load the unseen / new dataset\n",
        "data = pd.read_csv('test.csv')\n",
        "\n",
        "# rows and columns of the data\n",
        "print(data.shape)\n",
        "\n",
        "# visualise the dataset\n",
        "data.head()\n"
      ],
      "metadata": {
        "colab": {
          "base_uri": "https://localhost:8080/",
          "height": 317
        },
        "id": "1Ln-CpjVt-F0",
        "outputId": "a22882d6-36e2-4965-fcba-befc5ee16911"
      },
      "execution_count": 40,
      "outputs": [
        {
          "output_type": "stream",
          "name": "stdout",
          "text": [
            "(1459, 80)\n"
          ]
        },
        {
          "output_type": "execute_result",
          "data": {
            "text/plain": [
              "     Id  MSSubClass MSZoning  LotFrontage  LotArea Street Alley LotShape  \\\n",
              "0  1461          20       RH         80.0    11622   Pave   NaN      Reg   \n",
              "1  1462          20       RL         81.0    14267   Pave   NaN      IR1   \n",
              "2  1463          60       RL         74.0    13830   Pave   NaN      IR1   \n",
              "3  1464          60       RL         78.0     9978   Pave   NaN      IR1   \n",
              "4  1465         120       RL         43.0     5005   Pave   NaN      IR1   \n",
              "\n",
              "  LandContour Utilities  ... ScreenPorch PoolArea PoolQC  Fence MiscFeature  \\\n",
              "0         Lvl    AllPub  ...         120        0    NaN  MnPrv         NaN   \n",
              "1         Lvl    AllPub  ...           0        0    NaN    NaN        Gar2   \n",
              "2         Lvl    AllPub  ...           0        0    NaN  MnPrv         NaN   \n",
              "3         Lvl    AllPub  ...           0        0    NaN    NaN         NaN   \n",
              "4         HLS    AllPub  ...         144        0    NaN    NaN         NaN   \n",
              "\n",
              "  MiscVal MoSold  YrSold  SaleType  SaleCondition  \n",
              "0       0      6    2010        WD         Normal  \n",
              "1   12500      6    2010        WD         Normal  \n",
              "2       0      3    2010        WD         Normal  \n",
              "3       0      6    2010        WD         Normal  \n",
              "4       0      1    2010        WD         Normal  \n",
              "\n",
              "[5 rows x 80 columns]"
            ],
            "text/html": [
              "\n",
              "  <div id=\"df-9eac2d76-535d-44cb-9aa8-c31225f19e2b\">\n",
              "    <div class=\"colab-df-container\">\n",
              "      <div>\n",
              "<style scoped>\n",
              "    .dataframe tbody tr th:only-of-type {\n",
              "        vertical-align: middle;\n",
              "    }\n",
              "\n",
              "    .dataframe tbody tr th {\n",
              "        vertical-align: top;\n",
              "    }\n",
              "\n",
              "    .dataframe thead th {\n",
              "        text-align: right;\n",
              "    }\n",
              "</style>\n",
              "<table border=\"1\" class=\"dataframe\">\n",
              "  <thead>\n",
              "    <tr style=\"text-align: right;\">\n",
              "      <th></th>\n",
              "      <th>Id</th>\n",
              "      <th>MSSubClass</th>\n",
              "      <th>MSZoning</th>\n",
              "      <th>LotFrontage</th>\n",
              "      <th>LotArea</th>\n",
              "      <th>Street</th>\n",
              "      <th>Alley</th>\n",
              "      <th>LotShape</th>\n",
              "      <th>LandContour</th>\n",
              "      <th>Utilities</th>\n",
              "      <th>...</th>\n",
              "      <th>ScreenPorch</th>\n",
              "      <th>PoolArea</th>\n",
              "      <th>PoolQC</th>\n",
              "      <th>Fence</th>\n",
              "      <th>MiscFeature</th>\n",
              "      <th>MiscVal</th>\n",
              "      <th>MoSold</th>\n",
              "      <th>YrSold</th>\n",
              "      <th>SaleType</th>\n",
              "      <th>SaleCondition</th>\n",
              "    </tr>\n",
              "  </thead>\n",
              "  <tbody>\n",
              "    <tr>\n",
              "      <th>0</th>\n",
              "      <td>1461</td>\n",
              "      <td>20</td>\n",
              "      <td>RH</td>\n",
              "      <td>80.0</td>\n",
              "      <td>11622</td>\n",
              "      <td>Pave</td>\n",
              "      <td>NaN</td>\n",
              "      <td>Reg</td>\n",
              "      <td>Lvl</td>\n",
              "      <td>AllPub</td>\n",
              "      <td>...</td>\n",
              "      <td>120</td>\n",
              "      <td>0</td>\n",
              "      <td>NaN</td>\n",
              "      <td>MnPrv</td>\n",
              "      <td>NaN</td>\n",
              "      <td>0</td>\n",
              "      <td>6</td>\n",
              "      <td>2010</td>\n",
              "      <td>WD</td>\n",
              "      <td>Normal</td>\n",
              "    </tr>\n",
              "    <tr>\n",
              "      <th>1</th>\n",
              "      <td>1462</td>\n",
              "      <td>20</td>\n",
              "      <td>RL</td>\n",
              "      <td>81.0</td>\n",
              "      <td>14267</td>\n",
              "      <td>Pave</td>\n",
              "      <td>NaN</td>\n",
              "      <td>IR1</td>\n",
              "      <td>Lvl</td>\n",
              "      <td>AllPub</td>\n",
              "      <td>...</td>\n",
              "      <td>0</td>\n",
              "      <td>0</td>\n",
              "      <td>NaN</td>\n",
              "      <td>NaN</td>\n",
              "      <td>Gar2</td>\n",
              "      <td>12500</td>\n",
              "      <td>6</td>\n",
              "      <td>2010</td>\n",
              "      <td>WD</td>\n",
              "      <td>Normal</td>\n",
              "    </tr>\n",
              "    <tr>\n",
              "      <th>2</th>\n",
              "      <td>1463</td>\n",
              "      <td>60</td>\n",
              "      <td>RL</td>\n",
              "      <td>74.0</td>\n",
              "      <td>13830</td>\n",
              "      <td>Pave</td>\n",
              "      <td>NaN</td>\n",
              "      <td>IR1</td>\n",
              "      <td>Lvl</td>\n",
              "      <td>AllPub</td>\n",
              "      <td>...</td>\n",
              "      <td>0</td>\n",
              "      <td>0</td>\n",
              "      <td>NaN</td>\n",
              "      <td>MnPrv</td>\n",
              "      <td>NaN</td>\n",
              "      <td>0</td>\n",
              "      <td>3</td>\n",
              "      <td>2010</td>\n",
              "      <td>WD</td>\n",
              "      <td>Normal</td>\n",
              "    </tr>\n",
              "    <tr>\n",
              "      <th>3</th>\n",
              "      <td>1464</td>\n",
              "      <td>60</td>\n",
              "      <td>RL</td>\n",
              "      <td>78.0</td>\n",
              "      <td>9978</td>\n",
              "      <td>Pave</td>\n",
              "      <td>NaN</td>\n",
              "      <td>IR1</td>\n",
              "      <td>Lvl</td>\n",
              "      <td>AllPub</td>\n",
              "      <td>...</td>\n",
              "      <td>0</td>\n",
              "      <td>0</td>\n",
              "      <td>NaN</td>\n",
              "      <td>NaN</td>\n",
              "      <td>NaN</td>\n",
              "      <td>0</td>\n",
              "      <td>6</td>\n",
              "      <td>2010</td>\n",
              "      <td>WD</td>\n",
              "      <td>Normal</td>\n",
              "    </tr>\n",
              "    <tr>\n",
              "      <th>4</th>\n",
              "      <td>1465</td>\n",
              "      <td>120</td>\n",
              "      <td>RL</td>\n",
              "      <td>43.0</td>\n",
              "      <td>5005</td>\n",
              "      <td>Pave</td>\n",
              "      <td>NaN</td>\n",
              "      <td>IR1</td>\n",
              "      <td>HLS</td>\n",
              "      <td>AllPub</td>\n",
              "      <td>...</td>\n",
              "      <td>144</td>\n",
              "      <td>0</td>\n",
              "      <td>NaN</td>\n",
              "      <td>NaN</td>\n",
              "      <td>NaN</td>\n",
              "      <td>0</td>\n",
              "      <td>1</td>\n",
              "      <td>2010</td>\n",
              "      <td>WD</td>\n",
              "      <td>Normal</td>\n",
              "    </tr>\n",
              "  </tbody>\n",
              "</table>\n",
              "<p>5 rows × 80 columns</p>\n",
              "</div>\n",
              "      <button class=\"colab-df-convert\" onclick=\"convertToInteractive('df-9eac2d76-535d-44cb-9aa8-c31225f19e2b')\"\n",
              "              title=\"Convert this dataframe to an interactive table.\"\n",
              "              style=\"display:none;\">\n",
              "        \n",
              "  <svg xmlns=\"http://www.w3.org/2000/svg\" height=\"24px\"viewBox=\"0 0 24 24\"\n",
              "       width=\"24px\">\n",
              "    <path d=\"M0 0h24v24H0V0z\" fill=\"none\"/>\n",
              "    <path d=\"M18.56 5.44l.94 2.06.94-2.06 2.06-.94-2.06-.94-.94-2.06-.94 2.06-2.06.94zm-11 1L8.5 8.5l.94-2.06 2.06-.94-2.06-.94L8.5 2.5l-.94 2.06-2.06.94zm10 10l.94 2.06.94-2.06 2.06-.94-2.06-.94-.94-2.06-.94 2.06-2.06.94z\"/><path d=\"M17.41 7.96l-1.37-1.37c-.4-.4-.92-.59-1.43-.59-.52 0-1.04.2-1.43.59L10.3 9.45l-7.72 7.72c-.78.78-.78 2.05 0 2.83L4 21.41c.39.39.9.59 1.41.59.51 0 1.02-.2 1.41-.59l7.78-7.78 2.81-2.81c.8-.78.8-2.07 0-2.86zM5.41 20L4 18.59l7.72-7.72 1.47 1.35L5.41 20z\"/>\n",
              "  </svg>\n",
              "      </button>\n",
              "      \n",
              "  <style>\n",
              "    .colab-df-container {\n",
              "      display:flex;\n",
              "      flex-wrap:wrap;\n",
              "      gap: 12px;\n",
              "    }\n",
              "\n",
              "    .colab-df-convert {\n",
              "      background-color: #E8F0FE;\n",
              "      border: none;\n",
              "      border-radius: 50%;\n",
              "      cursor: pointer;\n",
              "      display: none;\n",
              "      fill: #1967D2;\n",
              "      height: 32px;\n",
              "      padding: 0 0 0 0;\n",
              "      width: 32px;\n",
              "    }\n",
              "\n",
              "    .colab-df-convert:hover {\n",
              "      background-color: #E2EBFA;\n",
              "      box-shadow: 0px 1px 2px rgba(60, 64, 67, 0.3), 0px 1px 3px 1px rgba(60, 64, 67, 0.15);\n",
              "      fill: #174EA6;\n",
              "    }\n",
              "\n",
              "    [theme=dark] .colab-df-convert {\n",
              "      background-color: #3B4455;\n",
              "      fill: #D2E3FC;\n",
              "    }\n",
              "\n",
              "    [theme=dark] .colab-df-convert:hover {\n",
              "      background-color: #434B5C;\n",
              "      box-shadow: 0px 1px 3px 1px rgba(0, 0, 0, 0.15);\n",
              "      filter: drop-shadow(0px 1px 2px rgba(0, 0, 0, 0.3));\n",
              "      fill: #FFFFFF;\n",
              "    }\n",
              "  </style>\n",
              "\n",
              "      <script>\n",
              "        const buttonEl =\n",
              "          document.querySelector('#df-9eac2d76-535d-44cb-9aa8-c31225f19e2b button.colab-df-convert');\n",
              "        buttonEl.style.display =\n",
              "          google.colab.kernel.accessAllowed ? 'block' : 'none';\n",
              "\n",
              "        async function convertToInteractive(key) {\n",
              "          const element = document.querySelector('#df-9eac2d76-535d-44cb-9aa8-c31225f19e2b');\n",
              "          const dataTable =\n",
              "            await google.colab.kernel.invokeFunction('convertToInteractive',\n",
              "                                                     [key], {});\n",
              "          if (!dataTable) return;\n",
              "\n",
              "          const docLinkHtml = 'Like what you see? Visit the ' +\n",
              "            '<a target=\"_blank\" href=https://colab.research.google.com/notebooks/data_table.ipynb>data table notebook</a>'\n",
              "            + ' to learn more about interactive tables.';\n",
              "          element.innerHTML = '';\n",
              "          dataTable['output_type'] = 'display_data';\n",
              "          await google.colab.output.renderOutput(dataTable, element);\n",
              "          const docLink = document.createElement('div');\n",
              "          docLink.innerHTML = docLinkHtml;\n",
              "          element.appendChild(docLink);\n",
              "        }\n",
              "      </script>\n",
              "    </div>\n",
              "  </div>\n",
              "  "
            ]
          },
          "metadata": {},
          "execution_count": 40
        }
      ]
    },
    {
      "cell_type": "code",
      "source": [
        "# drop the id variable\n",
        "\n",
        "data.drop('Id', axis=1, inplace=True)\n",
        "\n",
        "data.shape"
      ],
      "metadata": {
        "colab": {
          "base_uri": "https://localhost:8080/"
        },
        "id": "LdwETTZtuDFR",
        "outputId": "2d0b93ae-4fe2-4885-8385-b687dbced44b"
      },
      "execution_count": 41,
      "outputs": [
        {
          "output_type": "execute_result",
          "data": {
            "text/plain": [
              "(1459, 79)"
            ]
          },
          "metadata": {},
          "execution_count": 41
        }
      ]
    },
    {
      "cell_type": "markdown",
      "source": [
        "## Feature Engineering\n",
        "First we need to transform the data. Below the list of transformations that we did during the Feature Engineering phase:\n",
        "1. Missing values\n",
        "2. Temporal variables\n",
        "3. Non-Gaussian distributed variables\n",
        "4. Categorical variables: remove rare labels\n",
        "5. Categorical variables: convert strings to numbers\n",
        "6. Put the variables in a similar scale\n",
        "\n",
        "## Missing values\n",
        "Categorical variables\n",
        "* Replace missing values with the string \"missing\" \n",
        "in those variables with a lot of missing data.\n",
        "* Replace missing data with the most frequent category in those variables that contain fewer observations without values."
      ],
      "metadata": {
        "id": "0CaGMy0luG_p"
      }
    },
    {
      "cell_type": "code",
      "source": [
        "# first we needed to cast MSSubClass as object\n",
        "\n",
        "data['MSSubClass'] = data['MSSubClass'].astype('O')"
      ],
      "metadata": {
        "id": "A2hkn9teuF10"
      },
      "execution_count": 42,
      "outputs": []
    },
    {
      "cell_type": "code",
      "source": [
        "# list of different groups of categorical variables\n",
        "\n",
        "with_string_missing = ['Alley', 'FireplaceQu',\n",
        "                       'PoolQC', 'Fence', 'MiscFeature']\n",
        "\n",
        "# copy this dictionary from the Feature-engineering notebook\n",
        "# the key is the variable and the value is its most frequent category\n",
        "\n",
        "with_frequent_category = {\n",
        "    'MasVnrType': 'None',\n",
        "    'BsmtQual': 'TA',\n",
        "    'BsmtCond': 'TA',\n",
        "    'BsmtExposure': 'No',\n",
        "    'BsmtFinType1': 'Unf',\n",
        "    'BsmtFinType2': 'Unf',\n",
        "    'Electrical': 'SBrkr',\n",
        "    'GarageType': 'Attchd',\n",
        "    'GarageFinish': 'Unf',\n",
        "    'GarageQual': 'TA',\n",
        "    'GarageCond': 'TA',\n",
        "}"
      ],
      "metadata": {
        "id": "Fh1rGwbjvYwD"
      },
      "execution_count": 43,
      "outputs": []
    },
    {
      "cell_type": "code",
      "source": [
        "# replace missing values with new label: \"Missing\"\n",
        "\n",
        "data[with_string_missing] = data[with_string_missing].fillna('Missing')"
      ],
      "metadata": {
        "id": "uLgeKorBRBJe"
      },
      "execution_count": 44,
      "outputs": []
    },
    {
      "cell_type": "code",
      "source": [
        "# replace missing values with the most frequent category\n",
        "\n",
        "for var in with_frequent_category.keys():\n",
        "    data[var].fillna(with_frequent_category[var], inplace=True)"
      ],
      "metadata": {
        "id": "4_TU7JAjRCnr"
      },
      "execution_count": 45,
      "outputs": []
    },
    {
      "cell_type": "markdown",
      "source": [
        "## Numerical variables\n",
        "To engineer missing values in numerical variables, we will:\n",
        "\n",
        "* add a binary missing value indicator variable\n",
        "* and then replace the missing values in the original variable with the mean"
      ],
      "metadata": {
        "id": "n-WtGnz_RLqW"
      }
    },
    {
      "cell_type": "code",
      "source": [
        "# this is the dictionary of numerical variable with missing data\n",
        "# and its mean, as determined from the training set in the\n",
        "# Feature Engineering notebook\n",
        "\n",
        "vars_with_na = {\n",
        "    'LotFrontage': 69.87974098057354,\n",
        "    'MasVnrArea': 103.7974006116208,\n",
        "    'GarageYrBlt': 1978.2959677419356,\n",
        "}"
      ],
      "metadata": {
        "id": "r0rWiORkRTIs"
      },
      "execution_count": 46,
      "outputs": []
    },
    {
      "cell_type": "code",
      "source": [
        "# replace missing values as we described above\n",
        "\n",
        "for var in vars_with_na.keys():\n",
        "\n",
        "    # add binary missing indicator (in train and test)\n",
        "    data[var + '_na'] = np.where(data[var].isnull(), 1, 0)\n",
        "\n",
        "    # replace missing values by the mean\n",
        "    # (in train and test)\n",
        "    data[var].fillna(vars_with_na[var], inplace=True)\n",
        "\n",
        "data[vars_with_na].isnull().sum()"
      ],
      "metadata": {
        "colab": {
          "base_uri": "https://localhost:8080/"
        },
        "id": "6kDcd0wURXZT",
        "outputId": "228e017f-88ec-4fa1-d7ff-cd3f89cf9332"
      },
      "execution_count": 47,
      "outputs": [
        {
          "output_type": "execute_result",
          "data": {
            "text/plain": [
              "LotFrontage    0\n",
              "MasVnrArea     0\n",
              "GarageYrBlt    0\n",
              "dtype: int64"
            ]
          },
          "metadata": {},
          "execution_count": 47
        }
      ]
    },
    {
      "cell_type": "code",
      "source": [
        "# check the binary missing indicator variables\n",
        "\n",
        "data[['LotFrontage_na', 'MasVnrArea_na', 'GarageYrBlt_na']].head()"
      ],
      "metadata": {
        "colab": {
          "base_uri": "https://localhost:8080/",
          "height": 206
        },
        "id": "do525f17Rgj4",
        "outputId": "cbffeee2-8f27-489d-9558-eca4f97943b1"
      },
      "execution_count": 48,
      "outputs": [
        {
          "output_type": "execute_result",
          "data": {
            "text/plain": [
              "   LotFrontage_na  MasVnrArea_na  GarageYrBlt_na\n",
              "0               0              0               0\n",
              "1               0              0               0\n",
              "2               0              0               0\n",
              "3               0              0               0\n",
              "4               0              0               0"
            ],
            "text/html": [
              "\n",
              "  <div id=\"df-ebc46f01-6a47-4fb1-b16c-54d032ed290f\">\n",
              "    <div class=\"colab-df-container\">\n",
              "      <div>\n",
              "<style scoped>\n",
              "    .dataframe tbody tr th:only-of-type {\n",
              "        vertical-align: middle;\n",
              "    }\n",
              "\n",
              "    .dataframe tbody tr th {\n",
              "        vertical-align: top;\n",
              "    }\n",
              "\n",
              "    .dataframe thead th {\n",
              "        text-align: right;\n",
              "    }\n",
              "</style>\n",
              "<table border=\"1\" class=\"dataframe\">\n",
              "  <thead>\n",
              "    <tr style=\"text-align: right;\">\n",
              "      <th></th>\n",
              "      <th>LotFrontage_na</th>\n",
              "      <th>MasVnrArea_na</th>\n",
              "      <th>GarageYrBlt_na</th>\n",
              "    </tr>\n",
              "  </thead>\n",
              "  <tbody>\n",
              "    <tr>\n",
              "      <th>0</th>\n",
              "      <td>0</td>\n",
              "      <td>0</td>\n",
              "      <td>0</td>\n",
              "    </tr>\n",
              "    <tr>\n",
              "      <th>1</th>\n",
              "      <td>0</td>\n",
              "      <td>0</td>\n",
              "      <td>0</td>\n",
              "    </tr>\n",
              "    <tr>\n",
              "      <th>2</th>\n",
              "      <td>0</td>\n",
              "      <td>0</td>\n",
              "      <td>0</td>\n",
              "    </tr>\n",
              "    <tr>\n",
              "      <th>3</th>\n",
              "      <td>0</td>\n",
              "      <td>0</td>\n",
              "      <td>0</td>\n",
              "    </tr>\n",
              "    <tr>\n",
              "      <th>4</th>\n",
              "      <td>0</td>\n",
              "      <td>0</td>\n",
              "      <td>0</td>\n",
              "    </tr>\n",
              "  </tbody>\n",
              "</table>\n",
              "</div>\n",
              "      <button class=\"colab-df-convert\" onclick=\"convertToInteractive('df-ebc46f01-6a47-4fb1-b16c-54d032ed290f')\"\n",
              "              title=\"Convert this dataframe to an interactive table.\"\n",
              "              style=\"display:none;\">\n",
              "        \n",
              "  <svg xmlns=\"http://www.w3.org/2000/svg\" height=\"24px\"viewBox=\"0 0 24 24\"\n",
              "       width=\"24px\">\n",
              "    <path d=\"M0 0h24v24H0V0z\" fill=\"none\"/>\n",
              "    <path d=\"M18.56 5.44l.94 2.06.94-2.06 2.06-.94-2.06-.94-.94-2.06-.94 2.06-2.06.94zm-11 1L8.5 8.5l.94-2.06 2.06-.94-2.06-.94L8.5 2.5l-.94 2.06-2.06.94zm10 10l.94 2.06.94-2.06 2.06-.94-2.06-.94-.94-2.06-.94 2.06-2.06.94z\"/><path d=\"M17.41 7.96l-1.37-1.37c-.4-.4-.92-.59-1.43-.59-.52 0-1.04.2-1.43.59L10.3 9.45l-7.72 7.72c-.78.78-.78 2.05 0 2.83L4 21.41c.39.39.9.59 1.41.59.51 0 1.02-.2 1.41-.59l7.78-7.78 2.81-2.81c.8-.78.8-2.07 0-2.86zM5.41 20L4 18.59l7.72-7.72 1.47 1.35L5.41 20z\"/>\n",
              "  </svg>\n",
              "      </button>\n",
              "      \n",
              "  <style>\n",
              "    .colab-df-container {\n",
              "      display:flex;\n",
              "      flex-wrap:wrap;\n",
              "      gap: 12px;\n",
              "    }\n",
              "\n",
              "    .colab-df-convert {\n",
              "      background-color: #E8F0FE;\n",
              "      border: none;\n",
              "      border-radius: 50%;\n",
              "      cursor: pointer;\n",
              "      display: none;\n",
              "      fill: #1967D2;\n",
              "      height: 32px;\n",
              "      padding: 0 0 0 0;\n",
              "      width: 32px;\n",
              "    }\n",
              "\n",
              "    .colab-df-convert:hover {\n",
              "      background-color: #E2EBFA;\n",
              "      box-shadow: 0px 1px 2px rgba(60, 64, 67, 0.3), 0px 1px 3px 1px rgba(60, 64, 67, 0.15);\n",
              "      fill: #174EA6;\n",
              "    }\n",
              "\n",
              "    [theme=dark] .colab-df-convert {\n",
              "      background-color: #3B4455;\n",
              "      fill: #D2E3FC;\n",
              "    }\n",
              "\n",
              "    [theme=dark] .colab-df-convert:hover {\n",
              "      background-color: #434B5C;\n",
              "      box-shadow: 0px 1px 3px 1px rgba(0, 0, 0, 0.15);\n",
              "      filter: drop-shadow(0px 1px 2px rgba(0, 0, 0, 0.3));\n",
              "      fill: #FFFFFF;\n",
              "    }\n",
              "  </style>\n",
              "\n",
              "      <script>\n",
              "        const buttonEl =\n",
              "          document.querySelector('#df-ebc46f01-6a47-4fb1-b16c-54d032ed290f button.colab-df-convert');\n",
              "        buttonEl.style.display =\n",
              "          google.colab.kernel.accessAllowed ? 'block' : 'none';\n",
              "\n",
              "        async function convertToInteractive(key) {\n",
              "          const element = document.querySelector('#df-ebc46f01-6a47-4fb1-b16c-54d032ed290f');\n",
              "          const dataTable =\n",
              "            await google.colab.kernel.invokeFunction('convertToInteractive',\n",
              "                                                     [key], {});\n",
              "          if (!dataTable) return;\n",
              "\n",
              "          const docLinkHtml = 'Like what you see? Visit the ' +\n",
              "            '<a target=\"_blank\" href=https://colab.research.google.com/notebooks/data_table.ipynb>data table notebook</a>'\n",
              "            + ' to learn more about interactive tables.';\n",
              "          element.innerHTML = '';\n",
              "          dataTable['output_type'] = 'display_data';\n",
              "          await google.colab.output.renderOutput(dataTable, element);\n",
              "          const docLink = document.createElement('div');\n",
              "          docLink.innerHTML = docLinkHtml;\n",
              "          element.appendChild(docLink);\n",
              "        }\n",
              "      </script>\n",
              "    </div>\n",
              "  </div>\n",
              "  "
            ]
          },
          "metadata": {},
          "execution_count": 48
        }
      ]
    },
    {
      "cell_type": "markdown",
      "source": [
        "## Temporal variables\n",
        "### Capture elapsed time\n",
        "We need to capture the time elapsed between those variables and the year in which the house was sold:"
      ],
      "metadata": {
        "id": "9taj4JhSRi7n"
      }
    },
    {
      "cell_type": "code",
      "source": [
        "def elapsed_years(df, var):\n",
        "    # capture difference between the year variable\n",
        "    # and the year in which the house was sold\n",
        "    df[var] = df['YrSold'] - df[var]\n",
        "    return df"
      ],
      "metadata": {
        "id": "bDw5Xxb7RmxC"
      },
      "execution_count": 49,
      "outputs": []
    },
    {
      "cell_type": "code",
      "source": [
        "for var in ['YearBuilt', 'YearRemodAdd', 'GarageYrBlt']:\n",
        "    data = elapsed_years(data, var)"
      ],
      "metadata": {
        "id": "pLn2AbXlRpBV"
      },
      "execution_count": 50,
      "outputs": []
    },
    {
      "cell_type": "code",
      "source": [
        "# now we drop YrSold\n",
        "data.drop(['YrSold'], axis=1, inplace=True)"
      ],
      "metadata": {
        "id": "HXK73IjLRqdQ"
      },
      "execution_count": 51,
      "outputs": []
    },
    {
      "cell_type": "markdown",
      "source": [
        "## Numerical variable transformation\n",
        "### Logarithmic transformation\n",
        "We will transform with the logarithm the positive numerical variables in order to get a more Gaussian-like distribution."
      ],
      "metadata": {
        "id": "vqtNyAhORt1s"
      }
    },
    {
      "cell_type": "code",
      "source": [
        "for var in [\"LotFrontage\", \"1stFlrSF\", \"GrLivArea\"]:\n",
        "    data[var] = np.log(data[var])"
      ],
      "metadata": {
        "id": "ns1VPRByRtXk"
      },
      "execution_count": 52,
      "outputs": []
    },
    {
      "cell_type": "markdown",
      "source": [
        "## Yeo-Johnson transformation\n",
        "We will apply the Yeo-Johnson transformation to LotArea."
      ],
      "metadata": {
        "id": "1kh9zNROR0RS"
      }
    },
    {
      "cell_type": "code",
      "source": [
        "data['LotArea'] = stats.yeojohnson(data['LotArea'], lmbda=-12.55283001172003)"
      ],
      "metadata": {
        "id": "fq-NcsWmRz1W"
      },
      "execution_count": 53,
      "outputs": []
    },
    {
      "cell_type": "markdown",
      "source": [
        "## Binarize skewed variables\n",
        "There were a few variables very skewed, we would transform those into binary variables."
      ],
      "metadata": {
        "id": "cmXc8S4MR8kf"
      }
    },
    {
      "cell_type": "code",
      "source": [
        "skewed = [\n",
        "    'BsmtFinSF2', 'LowQualFinSF', 'EnclosedPorch',\n",
        "    '3SsnPorch', 'ScreenPorch', 'MiscVal'\n",
        "]\n",
        "\n",
        "for var in skewed:\n",
        "    \n",
        "    # map the variable values into 0 and 1\n",
        "    data[var] = np.where(data[var]==0, 0, 1)"
      ],
      "metadata": {
        "id": "FaznuhW1R79S"
      },
      "execution_count": 54,
      "outputs": []
    },
    {
      "cell_type": "markdown",
      "source": [
        "## Categorical variables\n",
        "### Apply mappings\n",
        "We remap variables with specific meanings into a numerical scale."
      ],
      "metadata": {
        "id": "kbdfp8E-SEx8"
      }
    },
    {
      "cell_type": "code",
      "source": [
        "# re-map strings to numbers, which determine quality\n",
        "\n",
        "qual_mappings = {'Po': 1, 'Fa': 2, 'TA': 3, 'Gd': 4, 'Ex': 5, 'Missing': 0, 'NA': 0}\n",
        "\n",
        "qual_vars = ['ExterQual', 'ExterCond', 'BsmtQual', 'BsmtCond',\n",
        "             'HeatingQC', 'KitchenQual', 'FireplaceQu',\n",
        "             'GarageQual', 'GarageCond',\n",
        "            ]\n",
        "\n",
        "for var in qual_vars:\n",
        "    data[var] = data[var].map(qual_mappings)\n",
        "exposure_mappings = {'No': 1, 'Mn': 2, 'Av': 3, 'Gd': 4}\n",
        "\n",
        "var = 'BsmtExposure'\n",
        "\n",
        "data[var] = data[var].map(exposure_mappings)\n",
        "finish_mappings = {'Missing': 0, 'NA': 0, 'Unf': 1, 'LwQ': 2, 'Rec': 3, 'BLQ': 4, 'ALQ': 5, 'GLQ': 6}\n",
        "\n",
        "finish_vars = ['BsmtFinType1', 'BsmtFinType2']\n",
        "\n",
        "for var in finish_vars:\n",
        "    data[var] = data[var].map(finish_mappings)\n",
        "garage_mappings = {'Missing': 0, 'NA': 0, 'Unf': 1, 'RFn': 2, 'Fin': 3}\n",
        "\n",
        "var = 'GarageFinish'\n",
        "\n",
        "data[var] = data[var].map(garage_mappings)\n",
        "fence_mappings = {'Missing': 0, 'NA': 0, 'MnWw': 1, 'GdWo': 2, 'MnPrv': 3, 'GdPrv': 4}\n",
        "\n",
        "var = 'Fence'\n",
        "\n",
        "data[var] = data[var].map(fence_mappings)"
      ],
      "metadata": {
        "id": "1T7qA-6CSELx"
      },
      "execution_count": 55,
      "outputs": []
    },
    {
      "cell_type": "code",
      "source": [
        "# check absence of na in the data set\n",
        "\n",
        "with_null = [var for var in data.columns if data[var].isnull().sum() > 0]\n",
        "\n",
        "with_null"
      ],
      "metadata": {
        "colab": {
          "base_uri": "https://localhost:8080/"
        },
        "id": "gmfmNVadSOhP",
        "outputId": "5191cdce-fec4-437c-d632-b963c4b5d818"
      },
      "execution_count": 56,
      "outputs": [
        {
          "output_type": "execute_result",
          "data": {
            "text/plain": [
              "['MSZoning',\n",
              " 'Utilities',\n",
              " 'Exterior1st',\n",
              " 'Exterior2nd',\n",
              " 'BsmtFinSF1',\n",
              " 'BsmtUnfSF',\n",
              " 'TotalBsmtSF',\n",
              " 'BsmtFullBath',\n",
              " 'BsmtHalfBath',\n",
              " 'KitchenQual',\n",
              " 'Functional',\n",
              " 'GarageCars',\n",
              " 'GarageArea',\n",
              " 'SaleType']"
            ]
          },
          "metadata": {},
          "execution_count": 56
        }
      ]
    },
    {
      "cell_type": "markdown",
      "source": [
        "There are quite a few variables with missing data!"
      ],
      "metadata": {
        "id": "7EAp_LnfSSBL"
      }
    },
    {
      "cell_type": "code",
      "source": [
        "# did those have missing data in the train set?\n",
        "\n",
        "[var for var in with_null if var in list(\n",
        "    with_frequent_category.keys())+with_string_missing+list(vars_with_na.keys())]"
      ],
      "metadata": {
        "colab": {
          "base_uri": "https://localhost:8080/"
        },
        "id": "qR9yv1KsSTrA",
        "outputId": "58e78d62-b971-403e-d33a-6f890694e283"
      },
      "execution_count": 57,
      "outputs": [
        {
          "output_type": "execute_result",
          "data": {
            "text/plain": [
              "[]"
            ]
          },
          "metadata": {},
          "execution_count": 57
        }
      ]
    },
    {
      "cell_type": "markdown",
      "source": [
        "### IMPORTANT\n",
        "\n",
        "##### In the new data, we have a bunch of variables that contain missing information, that we did not anticipate.\n",
        "\n",
        "## Removing Rare Labels\n",
        "##### For the remaining categorical variables, we will group those categories that are present in less than 1% of the observations into a \"Rare\" string.\n"
      ],
      "metadata": {
        "id": "eHphn5uxSZ6C"
      }
    },
    {
      "cell_type": "code",
      "source": [
        "# creating a dictionary with the most frequent categories per variable\n",
        "\n",
        "frequent_ls = {\n",
        "    'MSZoning': ['FV', 'RH', 'RL', 'RM'],\n",
        "    'Street': ['Pave'],\n",
        "    'Alley': ['Grvl', 'Missing', 'Pave'],\n",
        "    'LotShape': ['IR1', 'IR2', 'Reg'],\n",
        "    'LandContour': ['Bnk', 'HLS', 'Low', 'Lvl'],\n",
        "    'Utilities': ['AllPub'],\n",
        "    'LotConfig': ['Corner', 'CulDSac', 'FR2', 'Inside'],\n",
        "    'LandSlope': ['Gtl', 'Mod'],\n",
        "    'Neighborhood': ['Blmngtn', 'BrDale', 'BrkSide', 'ClearCr', 'CollgCr', 'Crawfor',\n",
        "                     'Edwards', 'Gilbert', 'IDOTRR', 'MeadowV', 'Mitchel', 'NAmes', 'NWAmes',\n",
        "                     'NoRidge', 'NridgHt', 'OldTown', 'SWISU', 'Sawyer', 'SawyerW',\n",
        "                     'Somerst', 'StoneBr', 'Timber'],\n",
        "\n",
        "    'Condition1': ['Artery', 'Feedr', 'Norm', 'PosN', 'RRAn'],\n",
        "    'Condition2': ['Norm'],\n",
        "    'BldgType': ['1Fam', '2fmCon', 'Duplex', 'Twnhs', 'TwnhsE'],\n",
        "    'HouseStyle': ['1.5Fin', '1Story', '2Story', 'SFoyer', 'SLvl'],\n",
        "    'RoofStyle': ['Gable', 'Hip'],\n",
        "    'RoofMatl': ['CompShg'],\n",
        "    'Exterior1st': ['AsbShng', 'BrkFace', 'CemntBd', 'HdBoard', 'MetalSd', 'Plywood',\n",
        "                    'Stucco', 'VinylSd', 'Wd Sdng', 'WdShing'],\n",
        "\n",
        "    'Exterior2nd': ['AsbShng', 'BrkFace', 'CmentBd', 'HdBoard', 'MetalSd', 'Plywood',\n",
        "                    'Stucco', 'VinylSd', 'Wd Sdng', 'Wd Shng'],\n",
        "\n",
        "    'MasVnrType': ['BrkFace', 'None', 'Stone'],\n",
        "    'Foundation': ['BrkTil', 'CBlock', 'PConc', 'Slab'],\n",
        "    'Heating': ['GasA', 'GasW'],\n",
        "    'CentralAir': ['N', 'Y'],\n",
        "    'Electrical': ['FuseA', 'FuseF', 'SBrkr'],\n",
        "    'Functional': ['Min1', 'Min2', 'Mod', 'Typ'],\n",
        "    'GarageType': ['Attchd', 'Basment', 'BuiltIn', 'Detchd'],\n",
        "    'PavedDrive': ['N', 'P', 'Y'],\n",
        "    'PoolQC': ['Missing'],\n",
        "    'MiscFeature': ['Missing', 'Shed'],\n",
        "    'SaleType': ['COD', 'New', 'WD'],\n",
        "    'SaleCondition': ['Abnorml', 'Family', 'Normal', 'Partial'],\n",
        "    'MSSubClass': ['20', '30', '50', '60', '70', '75', '80', '85', '90', '120', '160', '190'],\n",
        "}"
      ],
      "metadata": {
        "id": "qUKbwlPTSdHV"
      },
      "execution_count": 58,
      "outputs": []
    },
    {
      "cell_type": "code",
      "source": [
        "for var in frequent_ls.keys():\n",
        "    \n",
        "    # replace rare categories by the string \"Rare\"\n",
        "    data[var] = np.where(data[var].isin(\n",
        "        frequent_ls), data[var], 'Rare')"
      ],
      "metadata": {
        "id": "cdlD5tzaS2Rz"
      },
      "execution_count": 59,
      "outputs": []
    },
    {
      "cell_type": "markdown",
      "source": [
        "## Encoding of categorical variables\n",
        "Transforming the strings of the categorical variables into numbers."
      ],
      "metadata": {
        "id": "3McA0N91S5bn"
      }
    },
    {
      "cell_type": "code",
      "source": [
        "# we need the mappings learned from the train set. Otherwise, our model is going\n",
        "# to produce inaccurate results\n",
        "\n",
        "ordinal_mappings = {\n",
        "    'MSZoning': {'Rare': 0, 'RM': 1, 'RH': 2, 'RL': 3, 'FV': 4},\n",
        "    'Street': {'Rare': 0, 'Pave': 1},\n",
        "    'Alley': {'Grvl': 0, 'Pave': 1, 'Missing': 2},\n",
        "    'LotShape': {'Reg': 0, 'IR1': 1, 'Rare': 2, 'IR2': 3},\n",
        "    'LandContour': {'Bnk': 0, 'Lvl': 1, 'Low': 2, 'HLS': 3},\n",
        "    'Utilities': {'Rare': 0, 'AllPub': 1},\n",
        "    'LotConfig': {'Inside': 0, 'FR2': 1, 'Corner': 2, 'Rare': 3, 'CulDSac': 4},\n",
        "    'LandSlope': {'Gtl': 0, 'Mod': 1, 'Rare': 2},\n",
        "    'Neighborhood': {'IDOTRR': 0, 'MeadowV': 1, 'BrDale': 2, 'Edwards': 3,\n",
        "                     'BrkSide': 4, 'OldTown': 5, 'Sawyer': 6, 'SWISU': 7,\n",
        "                     'NAmes': 8, 'Mitchel': 9, 'SawyerW': 10, 'Rare': 11,\n",
        "                     'NWAmes': 12, 'Gilbert': 13, 'Blmngtn': 14, 'CollgCr': 15,\n",
        "                     'Crawfor': 16, 'ClearCr': 17, 'Somerst': 18, 'Timber': 19,\n",
        "                     'StoneBr': 20, 'NridgHt': 21, 'NoRidge': 22},\n",
        "    \n",
        "    'Condition1': {'Artery': 0, 'Feedr': 1, 'Norm': 2, 'RRAn': 3, 'Rare': 4, 'PosN': 5},\n",
        "    'Condition2': {'Rare': 0, 'Norm': 1},\n",
        "    'BldgType': {'2fmCon': 0, 'Duplex': 1, 'Twnhs': 2, '1Fam': 3, 'TwnhsE': 4},\n",
        "    'HouseStyle': {'SFoyer': 0, '1.5Fin': 1, 'Rare': 2, '1Story': 3, 'SLvl': 4, '2Story': 5},\n",
        "    'RoofStyle': {'Gable': 0, 'Rare': 1, 'Hip': 2},\n",
        "    'RoofMatl': {'CompShg': 0, 'Rare': 1},\n",
        "    'Exterior1st': {'AsbShng': 0, 'Wd Sdng': 1, 'WdShing': 2, 'MetalSd': 3,\n",
        "                    'Stucco': 4, 'Rare': 5, 'HdBoard': 6, 'Plywood': 7,\n",
        "                    'BrkFace': 8, 'CemntBd': 9, 'VinylSd': 10},\n",
        "    \n",
        "    'Exterior2nd': {'AsbShng': 0, 'Wd Sdng': 1, 'MetalSd': 2, 'Wd Shng': 3,\n",
        "                    'Stucco': 4, 'Rare': 5, 'HdBoard': 6, 'Plywood': 7,\n",
        "                    'BrkFace': 8, 'CmentBd': 9, 'VinylSd': 10},\n",
        "    \n",
        "    'MasVnrType': {'Rare': 0, 'None': 1, 'BrkFace': 2, 'Stone': 3},\n",
        "    'Foundation': {'Slab': 0, 'BrkTil': 1, 'CBlock': 2, 'Rare': 3, 'PConc': 4},\n",
        "    'Heating': {'Rare': 0, 'GasW': 1, 'GasA': 2},\n",
        "    'CentralAir': {'N': 0, 'Y': 1},\n",
        "    'Electrical': {'Rare': 0, 'FuseF': 1, 'FuseA': 2, 'SBrkr': 3},\n",
        "    'Functional': {'Rare': 0, 'Min2': 1, 'Mod': 2, 'Min1': 3, 'Typ': 4},\n",
        "    'GarageType': {'Rare': 0, 'Detchd': 1, 'Basment': 2, 'Attchd': 3, 'BuiltIn': 4},\n",
        "    'PavedDrive': {'N': 0, 'P': 1, 'Y': 2},\n",
        "    'PoolQC': {'Missing': 0, 'Rare': 1},\n",
        "    'MiscFeature': {'Rare': 0, 'Shed': 1, 'Missing': 2},\n",
        "    'SaleType': {'COD': 0, 'Rare': 1, 'WD': 2, 'New': 3},\n",
        "    'SaleCondition': {'Rare': 0, 'Abnorml': 1, 'Family': 2, 'Normal': 3, 'Partial': 4},\n",
        "    'MSSubClass': {'30': 0, 'Rare': 1, '190': 2, '90': 3, '160': 4, '50': 5, '85': 6,\n",
        "                   '70': 7, '80': 8, '20': 9, '75': 10, '120': 11, '60': 12},\n",
        "}"
      ],
      "metadata": {
        "id": "OVZu8dvPS49u"
      },
      "execution_count": 60,
      "outputs": []
    },
    {
      "cell_type": "code",
      "source": [
        "for var in ordinal_mappings.keys():\n",
        "\n",
        "    ordinal_label = ordinal_mappings[var]\n",
        "\n",
        "    # use the dictionary to replace the categorical strings by integers\n",
        "    data[var] = data[var].map(ordinal_label)"
      ],
      "metadata": {
        "id": "QcBft_ybTEQB"
      },
      "execution_count": 61,
      "outputs": []
    },
    {
      "cell_type": "code",
      "source": [
        "# check absence of na in the data set\n",
        "\n",
        "with_null = [var for var in data.columns if data[var].isnull().sum() > 0]\n",
        "\n",
        "len(with_null)"
      ],
      "metadata": {
        "colab": {
          "base_uri": "https://localhost:8080/"
        },
        "id": "HvQzJc68TJVj",
        "outputId": "f8115204-d36d-4b9f-dec9-4d8b2cb55a58"
      },
      "execution_count": 62,
      "outputs": [
        {
          "output_type": "execute_result",
          "data": {
            "text/plain": [
              "13"
            ]
          },
          "metadata": {},
          "execution_count": 62
        }
      ]
    },
    {
      "cell_type": "code",
      "source": [
        "# there is missing data in a lot of the variables.\n",
        "\n",
        "# unfortunately, the scaler wil not work with missing data, so\n",
        "# we need to fill those values\n",
        "\n",
        "# in the real world, we would try to understand where they are coming from\n",
        "# and why they were not present in the training set"
      ],
      "metadata": {
        "id": "FrigRhAlTN0y"
      },
      "execution_count": 63,
      "outputs": []
    },
    {
      "cell_type": "code",
      "source": [
        "data.fillna(0, inplace=True)"
      ],
      "metadata": {
        "id": "lJn3U1aqTREy"
      },
      "execution_count": 64,
      "outputs": []
    },
    {
      "cell_type": "markdown",
      "source": [
        "## Feature Scaling\n",
        "Scaling features to the minimum and maximum values:"
      ],
      "metadata": {
        "id": "_3MgmCH7TT7w"
      }
    },
    {
      "cell_type": "code",
      "source": [
        "# load the scaler we saved in the notebook on Feature Engineering\n",
        "scaler = joblib.load('minmax_scaler.joblib') \n",
        "\n",
        "data = pd.DataFrame(\n",
        "    scaler.transform(data),\n",
        "    columns=data.columns\n",
        ")\n"
      ],
      "metadata": {
        "id": "hzdhfhFKTZul"
      },
      "execution_count": 65,
      "outputs": []
    },
    {
      "cell_type": "code",
      "source": [
        "data.head()"
      ],
      "metadata": {
        "colab": {
          "base_uri": "https://localhost:8080/",
          "height": 300
        },
        "id": "ZuK3-MSQTfRB",
        "outputId": "fb3c590e-d649-4256-dc20-4be7b380565e"
      },
      "execution_count": 66,
      "outputs": [
        {
          "output_type": "execute_result",
          "data": {
            "text/plain": [
              "   MSSubClass  MSZoning  LotFrontage  LotArea  Street  Alley  LotShape  \\\n",
              "0    0.083333       0.0     0.495064      0.0     0.0    0.0  0.666667   \n",
              "1    0.083333       0.0     0.499662      0.0     0.0    0.0  0.666667   \n",
              "2    0.083333       0.0     0.466207      0.0     0.0    0.0  0.666667   \n",
              "3    0.083333       0.0     0.485693      0.0     0.0    0.0  0.666667   \n",
              "4    0.083333       0.0     0.265271      0.0     0.0    0.0  0.666667   \n",
              "\n",
              "   LandContour  Utilities  LotConfig  ...  PoolQC  Fence  MiscFeature  \\\n",
              "0          0.0        0.0       0.75  ...     1.0   0.75          0.0   \n",
              "1          0.0        0.0       0.75  ...     1.0   0.00          0.0   \n",
              "2          0.0        0.0       0.75  ...     1.0   0.75          0.0   \n",
              "3          0.0        0.0       0.75  ...     1.0   0.00          0.0   \n",
              "4          0.0        0.0       0.75  ...     1.0   0.00          0.0   \n",
              "\n",
              "   MiscVal    MoSold  SaleType  SaleCondition  LotFrontage_na  MasVnrArea_na  \\\n",
              "0      0.0  0.454545  0.333333            0.0             0.0            0.0   \n",
              "1      1.0  0.454545  0.333333            0.0             0.0            0.0   \n",
              "2      0.0  0.181818  0.333333            0.0             0.0            0.0   \n",
              "3      0.0  0.454545  0.333333            0.0             0.0            0.0   \n",
              "4      0.0  0.000000  0.333333            0.0             0.0            0.0   \n",
              "\n",
              "   GarageYrBlt_na  \n",
              "0             0.0  \n",
              "1             0.0  \n",
              "2             0.0  \n",
              "3             0.0  \n",
              "4             0.0  \n",
              "\n",
              "[5 rows x 81 columns]"
            ],
            "text/html": [
              "\n",
              "  <div id=\"df-0577b5d3-e7ed-445e-88d3-843711a0b45c\">\n",
              "    <div class=\"colab-df-container\">\n",
              "      <div>\n",
              "<style scoped>\n",
              "    .dataframe tbody tr th:only-of-type {\n",
              "        vertical-align: middle;\n",
              "    }\n",
              "\n",
              "    .dataframe tbody tr th {\n",
              "        vertical-align: top;\n",
              "    }\n",
              "\n",
              "    .dataframe thead th {\n",
              "        text-align: right;\n",
              "    }\n",
              "</style>\n",
              "<table border=\"1\" class=\"dataframe\">\n",
              "  <thead>\n",
              "    <tr style=\"text-align: right;\">\n",
              "      <th></th>\n",
              "      <th>MSSubClass</th>\n",
              "      <th>MSZoning</th>\n",
              "      <th>LotFrontage</th>\n",
              "      <th>LotArea</th>\n",
              "      <th>Street</th>\n",
              "      <th>Alley</th>\n",
              "      <th>LotShape</th>\n",
              "      <th>LandContour</th>\n",
              "      <th>Utilities</th>\n",
              "      <th>LotConfig</th>\n",
              "      <th>...</th>\n",
              "      <th>PoolQC</th>\n",
              "      <th>Fence</th>\n",
              "      <th>MiscFeature</th>\n",
              "      <th>MiscVal</th>\n",
              "      <th>MoSold</th>\n",
              "      <th>SaleType</th>\n",
              "      <th>SaleCondition</th>\n",
              "      <th>LotFrontage_na</th>\n",
              "      <th>MasVnrArea_na</th>\n",
              "      <th>GarageYrBlt_na</th>\n",
              "    </tr>\n",
              "  </thead>\n",
              "  <tbody>\n",
              "    <tr>\n",
              "      <th>0</th>\n",
              "      <td>0.083333</td>\n",
              "      <td>0.0</td>\n",
              "      <td>0.495064</td>\n",
              "      <td>0.0</td>\n",
              "      <td>0.0</td>\n",
              "      <td>0.0</td>\n",
              "      <td>0.666667</td>\n",
              "      <td>0.0</td>\n",
              "      <td>0.0</td>\n",
              "      <td>0.75</td>\n",
              "      <td>...</td>\n",
              "      <td>1.0</td>\n",
              "      <td>0.75</td>\n",
              "      <td>0.0</td>\n",
              "      <td>0.0</td>\n",
              "      <td>0.454545</td>\n",
              "      <td>0.333333</td>\n",
              "      <td>0.0</td>\n",
              "      <td>0.0</td>\n",
              "      <td>0.0</td>\n",
              "      <td>0.0</td>\n",
              "    </tr>\n",
              "    <tr>\n",
              "      <th>1</th>\n",
              "      <td>0.083333</td>\n",
              "      <td>0.0</td>\n",
              "      <td>0.499662</td>\n",
              "      <td>0.0</td>\n",
              "      <td>0.0</td>\n",
              "      <td>0.0</td>\n",
              "      <td>0.666667</td>\n",
              "      <td>0.0</td>\n",
              "      <td>0.0</td>\n",
              "      <td>0.75</td>\n",
              "      <td>...</td>\n",
              "      <td>1.0</td>\n",
              "      <td>0.00</td>\n",
              "      <td>0.0</td>\n",
              "      <td>1.0</td>\n",
              "      <td>0.454545</td>\n",
              "      <td>0.333333</td>\n",
              "      <td>0.0</td>\n",
              "      <td>0.0</td>\n",
              "      <td>0.0</td>\n",
              "      <td>0.0</td>\n",
              "    </tr>\n",
              "    <tr>\n",
              "      <th>2</th>\n",
              "      <td>0.083333</td>\n",
              "      <td>0.0</td>\n",
              "      <td>0.466207</td>\n",
              "      <td>0.0</td>\n",
              "      <td>0.0</td>\n",
              "      <td>0.0</td>\n",
              "      <td>0.666667</td>\n",
              "      <td>0.0</td>\n",
              "      <td>0.0</td>\n",
              "      <td>0.75</td>\n",
              "      <td>...</td>\n",
              "      <td>1.0</td>\n",
              "      <td>0.75</td>\n",
              "      <td>0.0</td>\n",
              "      <td>0.0</td>\n",
              "      <td>0.181818</td>\n",
              "      <td>0.333333</td>\n",
              "      <td>0.0</td>\n",
              "      <td>0.0</td>\n",
              "      <td>0.0</td>\n",
              "      <td>0.0</td>\n",
              "    </tr>\n",
              "    <tr>\n",
              "      <th>3</th>\n",
              "      <td>0.083333</td>\n",
              "      <td>0.0</td>\n",
              "      <td>0.485693</td>\n",
              "      <td>0.0</td>\n",
              "      <td>0.0</td>\n",
              "      <td>0.0</td>\n",
              "      <td>0.666667</td>\n",
              "      <td>0.0</td>\n",
              "      <td>0.0</td>\n",
              "      <td>0.75</td>\n",
              "      <td>...</td>\n",
              "      <td>1.0</td>\n",
              "      <td>0.00</td>\n",
              "      <td>0.0</td>\n",
              "      <td>0.0</td>\n",
              "      <td>0.454545</td>\n",
              "      <td>0.333333</td>\n",
              "      <td>0.0</td>\n",
              "      <td>0.0</td>\n",
              "      <td>0.0</td>\n",
              "      <td>0.0</td>\n",
              "    </tr>\n",
              "    <tr>\n",
              "      <th>4</th>\n",
              "      <td>0.083333</td>\n",
              "      <td>0.0</td>\n",
              "      <td>0.265271</td>\n",
              "      <td>0.0</td>\n",
              "      <td>0.0</td>\n",
              "      <td>0.0</td>\n",
              "      <td>0.666667</td>\n",
              "      <td>0.0</td>\n",
              "      <td>0.0</td>\n",
              "      <td>0.75</td>\n",
              "      <td>...</td>\n",
              "      <td>1.0</td>\n",
              "      <td>0.00</td>\n",
              "      <td>0.0</td>\n",
              "      <td>0.0</td>\n",
              "      <td>0.000000</td>\n",
              "      <td>0.333333</td>\n",
              "      <td>0.0</td>\n",
              "      <td>0.0</td>\n",
              "      <td>0.0</td>\n",
              "      <td>0.0</td>\n",
              "    </tr>\n",
              "  </tbody>\n",
              "</table>\n",
              "<p>5 rows × 81 columns</p>\n",
              "</div>\n",
              "      <button class=\"colab-df-convert\" onclick=\"convertToInteractive('df-0577b5d3-e7ed-445e-88d3-843711a0b45c')\"\n",
              "              title=\"Convert this dataframe to an interactive table.\"\n",
              "              style=\"display:none;\">\n",
              "        \n",
              "  <svg xmlns=\"http://www.w3.org/2000/svg\" height=\"24px\"viewBox=\"0 0 24 24\"\n",
              "       width=\"24px\">\n",
              "    <path d=\"M0 0h24v24H0V0z\" fill=\"none\"/>\n",
              "    <path d=\"M18.56 5.44l.94 2.06.94-2.06 2.06-.94-2.06-.94-.94-2.06-.94 2.06-2.06.94zm-11 1L8.5 8.5l.94-2.06 2.06-.94-2.06-.94L8.5 2.5l-.94 2.06-2.06.94zm10 10l.94 2.06.94-2.06 2.06-.94-2.06-.94-.94-2.06-.94 2.06-2.06.94z\"/><path d=\"M17.41 7.96l-1.37-1.37c-.4-.4-.92-.59-1.43-.59-.52 0-1.04.2-1.43.59L10.3 9.45l-7.72 7.72c-.78.78-.78 2.05 0 2.83L4 21.41c.39.39.9.59 1.41.59.51 0 1.02-.2 1.41-.59l7.78-7.78 2.81-2.81c.8-.78.8-2.07 0-2.86zM5.41 20L4 18.59l7.72-7.72 1.47 1.35L5.41 20z\"/>\n",
              "  </svg>\n",
              "      </button>\n",
              "      \n",
              "  <style>\n",
              "    .colab-df-container {\n",
              "      display:flex;\n",
              "      flex-wrap:wrap;\n",
              "      gap: 12px;\n",
              "    }\n",
              "\n",
              "    .colab-df-convert {\n",
              "      background-color: #E8F0FE;\n",
              "      border: none;\n",
              "      border-radius: 50%;\n",
              "      cursor: pointer;\n",
              "      display: none;\n",
              "      fill: #1967D2;\n",
              "      height: 32px;\n",
              "      padding: 0 0 0 0;\n",
              "      width: 32px;\n",
              "    }\n",
              "\n",
              "    .colab-df-convert:hover {\n",
              "      background-color: #E2EBFA;\n",
              "      box-shadow: 0px 1px 2px rgba(60, 64, 67, 0.3), 0px 1px 3px 1px rgba(60, 64, 67, 0.15);\n",
              "      fill: #174EA6;\n",
              "    }\n",
              "\n",
              "    [theme=dark] .colab-df-convert {\n",
              "      background-color: #3B4455;\n",
              "      fill: #D2E3FC;\n",
              "    }\n",
              "\n",
              "    [theme=dark] .colab-df-convert:hover {\n",
              "      background-color: #434B5C;\n",
              "      box-shadow: 0px 1px 3px 1px rgba(0, 0, 0, 0.15);\n",
              "      filter: drop-shadow(0px 1px 2px rgba(0, 0, 0, 0.3));\n",
              "      fill: #FFFFFF;\n",
              "    }\n",
              "  </style>\n",
              "\n",
              "      <script>\n",
              "        const buttonEl =\n",
              "          document.querySelector('#df-0577b5d3-e7ed-445e-88d3-843711a0b45c button.colab-df-convert');\n",
              "        buttonEl.style.display =\n",
              "          google.colab.kernel.accessAllowed ? 'block' : 'none';\n",
              "\n",
              "        async function convertToInteractive(key) {\n",
              "          const element = document.querySelector('#df-0577b5d3-e7ed-445e-88d3-843711a0b45c');\n",
              "          const dataTable =\n",
              "            await google.colab.kernel.invokeFunction('convertToInteractive',\n",
              "                                                     [key], {});\n",
              "          if (!dataTable) return;\n",
              "\n",
              "          const docLinkHtml = 'Like what you see? Visit the ' +\n",
              "            '<a target=\"_blank\" href=https://colab.research.google.com/notebooks/data_table.ipynb>data table notebook</a>'\n",
              "            + ' to learn more about interactive tables.';\n",
              "          element.innerHTML = '';\n",
              "          dataTable['output_type'] = 'display_data';\n",
              "          await google.colab.output.renderOutput(dataTable, element);\n",
              "          const docLink = document.createElement('div');\n",
              "          docLink.innerHTML = docLinkHtml;\n",
              "          element.appendChild(docLink);\n",
              "        }\n",
              "      </script>\n",
              "    </div>\n",
              "  </div>\n",
              "  "
            ]
          },
          "metadata": {},
          "execution_count": 66
        }
      ]
    },
    {
      "cell_type": "code",
      "source": [
        "# load the pre-selected features\n",
        "# ==============================\n",
        "\n",
        "features = pd.read_csv('selected_features.csv')\n",
        "features = features['0'].to_list() \n",
        "\n",
        "# reduce the train and test set to the selected features\n",
        "data = data[features]\n",
        "\n",
        "data.shape"
      ],
      "metadata": {
        "colab": {
          "base_uri": "https://localhost:8080/"
        },
        "id": "0zfhU2X1TiWy",
        "outputId": "dc38e834-52aa-4e06-d3b3-d8d28912f335"
      },
      "execution_count": 67,
      "outputs": [
        {
          "output_type": "execute_result",
          "data": {
            "text/plain": [
              "(1459, 36)"
            ]
          },
          "metadata": {},
          "execution_count": 67
        }
      ]
    },
    {
      "cell_type": "code",
      "source": [
        "# now let's load the trained model\n",
        "\n",
        "lin_model = joblib.load('linear_regression.joblib') \n",
        "\n",
        "# let's obtain the predictions\n",
        "pred = lin_model.predict(data)\n",
        "\n",
        "# let's plot the predicted sale prices\n",
        "pd.Series(np.exp(pred)).hist(bins=50)"
      ],
      "metadata": {
        "colab": {
          "base_uri": "https://localhost:8080/",
          "height": 283
        },
        "id": "ACe2Y-yITsbM",
        "outputId": "863991e1-d2cb-4a00-f73e-a959a2a88ffa"
      },
      "execution_count": 68,
      "outputs": [
        {
          "output_type": "execute_result",
          "data": {
            "text/plain": [
              "<matplotlib.axes._subplots.AxesSubplot at 0x7f2f7b8ea730>"
            ]
          },
          "metadata": {},
          "execution_count": 68
        },
        {
          "output_type": "display_data",
          "data": {
            "text/plain": [
              "<Figure size 432x288 with 1 Axes>"
            ],
            "image/png": "[encoded data removed]"
          },
          "metadata": {
            "needs_background": "light"
          }
        }
      ]
    }
  ]
}