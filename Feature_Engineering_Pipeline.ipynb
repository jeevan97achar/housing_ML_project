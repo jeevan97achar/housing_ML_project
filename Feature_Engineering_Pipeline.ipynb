{
  "nbformat": 4,
  "nbformat_minor": 0,
  "metadata": {
    "colab": {
      "provenance": [],
      "authorship_tag": "ABX9TyMM6GkWI6F4iGwHs+4s/Hfw",
      "include_colab_link": true
    },
    "kernelspec": {
      "name": "python3",
      "display_name": "Python 3"
    },
    "language_info": {
      "name": "python"
    }
  },
  "cells": [
    {
      "cell_type": "markdown",
      "metadata": {
        "id": "view-in-github",
        "colab_type": "text"
      },
      "source": [
        "<a href=\"https://colab.research.google.com/github/jeevan97achar/housing_ML_project/blob/main/Feature_Engineering_Pipeline.ipynb\" target=\"_parent\"><img src=\"https://colab.research.google.com/assets/colab-badge.svg\" alt=\"Open In Colab\"/></a>"
      ]
    },
    {
      "cell_type": "markdown",
      "source": [
        "# Feature Engineering with in house software\n",
        "\n",
        "We will set up all the feature engineering steps within a Scikit-learn pipeline utilizing the open source transformers plus those we develop in house."
      ],
      "metadata": {
        "id": "hK0je6xQgm65"
      }
    },
    {
      "cell_type": "code",
      "source": [
        "! pip install feature_engine"
      ],
      "metadata": {
        "colab": {
          "base_uri": "https://localhost:8080/"
        },
        "id": "eMimvr6yhOaq",
        "outputId": "e98e3407-8011-48ca-87ad-3584d95f8621"
      },
      "execution_count": 1,
      "outputs": [
        {
          "output_type": "stream",
          "name": "stdout",
          "text": [
            "Looking in indexes: https://pypi.org/simple, https://us-python.pkg.dev/colab-wheels/public/simple/\n",
            "Collecting feature_engine\n",
            "  Downloading feature_engine-1.5.2-py2.py3-none-any.whl (290 kB)\n",
            "\u001b[2K     \u001b[90m━━━━━━━━━━━━━━━━━━━━━━━━━━━━━━━━━━━━━━━\u001b[0m \u001b[32m290.0/290.0 KB\u001b[0m \u001b[31m6.7 MB/s\u001b[0m eta \u001b[36m0:00:00\u001b[0m\n",
            "\u001b[?25hRequirement already satisfied: pandas>=1.0.3 in /usr/local/lib/python3.8/dist-packages (from feature_engine) (1.3.5)\n",
            "Requirement already satisfied: scipy>=1.4.1 in /usr/local/lib/python3.8/dist-packages (from feature_engine) (1.7.3)\n",
            "Requirement already satisfied: statsmodels>=0.11.1 in /usr/local/lib/python3.8/dist-packages (from feature_engine) (0.12.2)\n",
            "Requirement already satisfied: scikit-learn>=1.0.0 in /usr/local/lib/python3.8/dist-packages (from feature_engine) (1.0.2)\n",
            "Requirement already satisfied: numpy>=1.18.2 in /usr/local/lib/python3.8/dist-packages (from feature_engine) (1.21.6)\n",
            "Requirement already satisfied: pytz>=2017.3 in /usr/local/lib/python3.8/dist-packages (from pandas>=1.0.3->feature_engine) (2022.7)\n",
            "Requirement already satisfied: python-dateutil>=2.7.3 in /usr/local/lib/python3.8/dist-packages (from pandas>=1.0.3->feature_engine) (2.8.2)\n",
            "Requirement already satisfied: joblib>=0.11 in /usr/local/lib/python3.8/dist-packages (from scikit-learn>=1.0.0->feature_engine) (1.2.0)\n",
            "Requirement already satisfied: threadpoolctl>=2.0.0 in /usr/local/lib/python3.8/dist-packages (from scikit-learn>=1.0.0->feature_engine) (3.1.0)\n",
            "Requirement already satisfied: patsy>=0.5 in /usr/local/lib/python3.8/dist-packages (from statsmodels>=0.11.1->feature_engine) (0.5.3)\n",
            "Requirement already satisfied: six in /usr/local/lib/python3.8/dist-packages (from patsy>=0.5->statsmodels>=0.11.1->feature_engine) (1.15.0)\n",
            "Installing collected packages: feature_engine\n",
            "Successfully installed feature_engine-1.5.2\n"
          ]
        }
      ]
    },
    {
      "cell_type": "code",
      "execution_count": 3,
      "metadata": {
        "id": "8GTNbhmCghwy"
      },
      "outputs": [],
      "source": [
        "# data manipulation and plotting\n",
        "import pandas as pd\n",
        "import numpy as np\n",
        "import matplotlib.pyplot as plt\n",
        "\n",
        "# for saving the pipeline\n",
        "import joblib\n",
        "\n",
        "# from Scikit-learn\n",
        "from sklearn.feature_selection import SelectFromModel\n",
        "from sklearn.linear_model import Lasso\n",
        "from sklearn.metrics import mean_squared_error, r2_score\n",
        "from sklearn.model_selection import train_test_split\n",
        "from sklearn.pipeline import Pipeline\n",
        "from sklearn.preprocessing import MinMaxScaler, Binarizer\n",
        "\n",
        "# from feature-engine\n",
        "from feature_engine.imputation import (\n",
        "    AddMissingIndicator,\n",
        "    MeanMedianImputer,\n",
        "    CategoricalImputer,\n",
        ")\n",
        "\n",
        "from feature_engine.encoding import (\n",
        "    RareLabelEncoder,\n",
        "    OrdinalEncoder,\n",
        ")\n",
        "\n",
        "from feature_engine.transformation import (\n",
        "    LogTransformer,\n",
        "    YeoJohnsonTransformer,\n",
        ")\n",
        "\n",
        "from feature_engine.selection import DropFeatures\n",
        "from feature_engine.wrappers import SklearnTransformerWrapper\n",
        "\n",
        "import preprocessors as pp\n",
        "\n",
        "# to visualise al the columns in the dataframe\n",
        "pd.pandas.set_option('display.max_columns', None)"
      ]
    },
    {
      "cell_type": "code",
      "source": [
        "# load dataset\n",
        "data = pd.read_csv('train.csv')\n",
        "\n",
        "# rows and columns of the data\n",
        "print(data.shape)\n",
        "\n",
        "# visualise the dataset\n",
        "data.head()"
      ],
      "metadata": {
        "id": "I-cl_ZJBiMC1"
      },
      "execution_count": null,
      "outputs": []
    },
    {
      "cell_type": "code",
      "source": [
        "# Cast MSSubClass as object\n",
        "\n",
        "data['MSSubClass'] = data['MSSubClass'].astype('O')"
      ],
      "metadata": {
        "id": "to9yRYN6ilXB"
      },
      "execution_count": 5,
      "outputs": []
    },
    {
      "cell_type": "markdown",
      "source": [
        "## Separate dataset into train and test\n",
        "It is important to separate our data intro training and testing set.\n",
        "\n",
        "When we engineer features, some techniques learn parameters from data. It is important to learn these parameters only from the train set. This is to avoid over-fitting.\n",
        "\n",
        "Our feature engineering techniques will learn:\n",
        "\n",
        "* mean\n",
        "* mode\n",
        "* exponents for the yeo-johnson\n",
        "* category frequency\n",
        "* and category to number mappings\n",
        "\n",
        "from the train set.\n",
        "\n",
        "Separating the data into train and test involves randomness, therefore, we need to set the seed."
      ],
      "metadata": {
        "id": "WC2Jsq0CjCUX"
      }
    },
    {
      "cell_type": "code",
      "source": [
        "# Let's separate into train and test set\n",
        "# Remember to set the seed (random_state for this sklearn function)\n",
        "\n",
        "X_train, X_test, y_train, y_test = train_test_split(\n",
        "    data.drop(['Id', 'SalePrice'], axis=1), # predictive variables\n",
        "    data['SalePrice'], # target\n",
        "    test_size=0.1, # portion of dataset to allocate to test set\n",
        "    random_state=0, # we are setting the seed here\n",
        ")\n",
        "\n",
        "X_train.shape, X_test.shape"
      ],
      "metadata": {
        "colab": {
          "base_uri": "https://localhost:8080/"
        },
        "id": "yRjCnTSmi-94",
        "outputId": "762f626d-edf4-46e4-bcb1-ef73ac97e558"
      },
      "execution_count": 6,
      "outputs": [
        {
          "output_type": "execute_result",
          "data": {
            "text/plain": [
              "((1314, 79), (146, 79))"
            ]
          },
          "metadata": {},
          "execution_count": 6
        }
      ]
    },
    {
      "cell_type": "markdown",
      "source": [
        "## Target\n",
        "We apply the logarithm"
      ],
      "metadata": {
        "id": "dX_EX0ZtjQIq"
      }
    },
    {
      "cell_type": "code",
      "source": [
        "y_train = np.log(y_train)\n",
        "y_test = np.log(y_test)"
      ],
      "metadata": {
        "id": "D7QM9jL1jPpv"
      },
      "execution_count": 7,
      "outputs": []
    },
    {
      "cell_type": "markdown",
      "source": [
        "## Config"
      ],
      "metadata": {
        "id": "FZfBIp2zj17_"
      }
    },
    {
      "cell_type": "code",
      "source": [
        "# categorical variables with NA in train set\n",
        "CATEGORICAL_VARS_WITH_NA_FREQUENT = ['MasVnrType',\n",
        "                                     'BsmtQual',\n",
        "                                     'BsmtCond',\n",
        "                                     'BsmtExposure',\n",
        "                                     'BsmtFinType1',\n",
        "                                     'BsmtFinType2',\n",
        "                                     'Electrical',\n",
        "                                     'GarageType',\n",
        "                                     'GarageFinish',\n",
        "                                     'GarageQual',\n",
        "                                     'GarageCond']\n",
        "\n",
        "\n",
        "CATEGORICAL_VARS_WITH_NA_MISSING = [\n",
        "    'Alley', 'FireplaceQu', 'PoolQC', 'Fence', 'MiscFeature']\n",
        "\n",
        "\n",
        "# numerical variables with NA in train set\n",
        "NUMERICAL_VARS_WITH_NA = ['LotFrontage', 'MasVnrArea', 'GarageYrBlt']\n",
        "\n",
        "\n",
        "TEMPORAL_VARS = ['YearBuilt', 'YearRemodAdd', 'GarageYrBlt']\n",
        "REF_VAR = \"YrSold\"\n",
        "\n",
        "\n",
        "# variables to log transform\n",
        "NUMERICALS_LOG_VARS = [\"LotFrontage\", \"1stFlrSF\", \"GrLivArea\"]\n",
        "\n",
        "NUMERICALS_YEO_VARS = ['LotArea']\n",
        "\n",
        "\n",
        "BINARIZE_VARS = [\n",
        "    'BsmtFinSF2', 'LowQualFinSF', 'EnclosedPorch',\n",
        "    '3SsnPorch', 'ScreenPorch', 'MiscVal'\n",
        "]\n",
        "\n",
        "# variables to map\n",
        "QUAL_VARS = ['ExterQual', 'ExterCond', 'BsmtQual', 'BsmtCond',\n",
        "             'HeatingQC', 'KitchenQual', 'FireplaceQu',\n",
        "             'GarageQual', 'GarageCond',\n",
        "             ]\n",
        "\n",
        "EXPOSURE_VARS = ['BsmtExposure']\n",
        "\n",
        "FINISH_VARS = ['BsmtFinType1', 'BsmtFinType2']\n",
        "\n",
        "GARAGE_VARS = ['GarageFinish']\n",
        "\n",
        "FENCE_VARS = ['Fence']\n",
        "\n",
        "# categorical variables to encode\n",
        "CATEGORICAL_VARS = [\n",
        "    'MSZoning',\n",
        "    'Street',\n",
        "    'Alley',\n",
        "    'LotShape',\n",
        "    'LandContour',\n",
        "    'Utilities',\n",
        "    'LotConfig',\n",
        "    'LandSlope',\n",
        "    'Neighborhood',\n",
        "    'Condition1',\n",
        "    'Condition2',\n",
        "    'BldgType',\n",
        "    'HouseStyle',\n",
        "    'RoofStyle',\n",
        "    'RoofMatl',\n",
        "    'Exterior1st',\n",
        "    'Exterior2nd',\n",
        "    'MasVnrType',\n",
        "    'Foundation',\n",
        "    'Heating',\n",
        "    'CentralAir',\n",
        "    'Electrical',\n",
        "    'Functional',\n",
        "    'GarageType',\n",
        "    'PavedDrive',\n",
        "    'PoolQC',\n",
        "    'MiscFeature',\n",
        "    'SaleType',\n",
        "    'SaleCondition',\n",
        "    'MSSubClass']\n",
        "\n",
        "\n",
        "QUAL_MAPPINGS = {'Po': 1, 'Fa': 2, 'TA': 3,\n",
        "                 'Gd': 4, 'Ex': 5, 'Missing': 0, 'NA': 0}\n",
        "\n",
        "EXPOSURE_MAPPINGS = {'No': 1, 'Mn': 2, 'Av': 3, 'Gd': 4}\n",
        "\n",
        "FINISH_MAPPINGS = {'Missing': 0, 'NA': 0, 'Unf': 1,\n",
        "                   'LwQ': 2, 'Rec': 3, 'BLQ': 4, 'ALQ': 5, 'GLQ': 6}\n",
        "\n",
        "GARAGE_MAPPINGS = {'Missing': 0, 'NA': 0, 'Unf': 1, 'RFn': 2, 'Fin': 3}\n",
        "\n",
        "FENCE_MAPPINGS = {'Missing': 0, 'NA': 0,\n",
        "                  'MnWw': 1, 'GdWo': 2, 'MnPrv': 3, 'GdPrv': 4}"
      ],
      "metadata": {
        "id": "OqurU-SZj1mY"
      },
      "execution_count": 8,
      "outputs": []
    },
    {
      "cell_type": "markdown",
      "source": [
        "## Pipeline - Feature engineering"
      ],
      "metadata": {
        "id": "W9xjdzOUkoEZ"
      }
    },
    {
      "cell_type": "code",
      "source": [
        "# set up the pipeline\n",
        "price_pipe = Pipeline([\n",
        "\n",
        "    # ===== IMPUTATION =====\n",
        "    # impute categorical variables with string missing\n",
        "    ('missing_imputation', CategoricalImputer(\n",
        "        imputation_method='missing', variables=CATEGORICAL_VARS_WITH_NA_MISSING)),\n",
        "\n",
        "    ('frequent_imputation', CategoricalImputer(\n",
        "        imputation_method='frequent', variables=CATEGORICAL_VARS_WITH_NA_FREQUENT)),\n",
        "\n",
        "    # add missing indicator\n",
        "    ('missing_indicator', AddMissingIndicator(variables=NUMERICAL_VARS_WITH_NA)),\n",
        "\n",
        "    # impute numerical variables with the mean\n",
        "    ('mean_imputation', MeanMedianImputer(\n",
        "        imputation_method='mean', variables=NUMERICAL_VARS_WITH_NA\n",
        "    )),\n",
        "    \n",
        "    \n",
        "    # == TEMPORAL VARIABLES ====\n",
        "    ('elapsed_time', pp.TemporalVariableTransformer(\n",
        "        variables=TEMPORAL_VARS, reference_variable=REF_VAR)),\n",
        "\n",
        "    ('drop_features', DropFeatures(features_to_drop=[REF_VAR])),\n",
        "\n",
        "   \n",
        "\n",
        "    # ==== VARIABLE TRANSFORMATION =====\n",
        "    ('log', LogTransformer(variables=NUMERICALS_LOG_VARS)),\n",
        "    \n",
        "    ('yeojohnson', YeoJohnsonTransformer(variables=NUMERICALS_YEO_VARS)),\n",
        "    \n",
        "    ('binarizer', SklearnTransformerWrapper(\n",
        "        transformer=Binarizer(threshold=0), variables=BINARIZE_VARS)),\n",
        "    \n",
        "\n",
        "    # === mappers ===\n",
        "    ('mapper_qual', pp.Mapper(\n",
        "        variables=QUAL_VARS, mappings=QUAL_MAPPINGS)),\n",
        "\n",
        "    ('mapper_exposure', pp.Mapper(\n",
        "        variables=EXPOSURE_VARS, mappings=EXPOSURE_MAPPINGS)),\n",
        "\n",
        "    ('mapper_finish', pp.Mapper(\n",
        "        variables=FINISH_VARS, mappings=FINISH_MAPPINGS)),\n",
        "\n",
        "    ('mapper_garage', pp.Mapper(\n",
        "        variables=GARAGE_VARS, mappings=GARAGE_MAPPINGS)),\n",
        "    \n",
        "    ('mapper_fence', pp.Mapper(\n",
        "        variables=FENCE_VARS, mappings=FENCE_MAPPINGS)),\n",
        "\n",
        "\n",
        "    # == CATEGORICAL ENCODING\n",
        "    ('rare_label_encoder', RareLabelEncoder(\n",
        "        tol=0.01, n_categories=1, variables=CATEGORICAL_VARS\n",
        "    )),\n",
        "\n",
        "    # encode categorical and discrete variables using the target mean\n",
        "    ('categorical_encoder', OrdinalEncoder(\n",
        "        encoding_method='ordered', variables=CATEGORICAL_VARS)),\n",
        "])"
      ],
      "metadata": {
        "id": "l2fNXH5DkteJ"
      },
      "execution_count": 9,
      "outputs": []
    }
  ]
}